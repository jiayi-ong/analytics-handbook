{
 "cells": [
  {
   "cell_type": "markdown",
   "id": "95c74133",
   "metadata": {},
   "source": [
    "# Scopes and Namespaces"
   ]
  },
  {
   "cell_type": "code",
   "execution_count": null,
   "id": "a4c1cb13",
   "metadata": {},
   "outputs": [],
   "source": [
    "def scope_test():\n",
    "    def do_local():\n",
    "        spam = \"local spam\"\n",
    "\n",
    "    def do_nonlocal():\n",
    "        nonlocal spam\n",
    "        spam = \"nonlocal spam\"\n",
    "\n",
    "    def do_global():\n",
    "        global spam\n",
    "        spam = \"global spam\"\n",
    "\n",
    "    spam = \"test spam\"\n",
    "    do_local()\n",
    "    print(\"After local assignment:\", spam)\n",
    "    do_nonlocal()\n",
    "    print(\"After nonlocal assignment:\", spam)\n",
    "    do_global()\n",
    "    print(\"After global assignment:\", spam)\n",
    "\n",
    "scope_test()\n",
    "print(\"In global scope:\", spam)"
   ]
  },
  {
   "cell_type": "markdown",
   "id": "27aa14c6-1a8c-4712-be23-a38018d13336",
   "metadata": {},
   "source": [
    "# Iterator"
   ]
  },
  {
   "cell_type": "code",
   "execution_count": 7,
   "id": "0d3b95eb-e212-48dc-97e1-90c4aa8b268d",
   "metadata": {},
   "outputs": [],
   "source": [
    "# when \"for i in list\" is called\n",
    "# iter() is applied to the list to make it an iterator\n",
    "# and next() is called until StopIteration Exception is raised\n",
    "iterator = iter([10,20,30,40])"
   ]
  },
  {
   "cell_type": "code",
   "execution_count": 8,
   "id": "8a6ab7f7-4a9a-4ca3-9842-2d4ef5d9f609",
   "metadata": {},
   "outputs": [
    {
     "data": {
      "text/plain": [
       "10"
      ]
     },
     "execution_count": 8,
     "metadata": {},
     "output_type": "execute_result"
    }
   ],
   "source": [
    "next(iterator)"
   ]
  },
  {
   "cell_type": "code",
   "execution_count": 9,
   "id": "36434997-7a35-4b2a-8cef-f6f2060fe7b1",
   "metadata": {},
   "outputs": [
    {
     "data": {
      "text/plain": [
       "20"
      ]
     },
     "execution_count": 9,
     "metadata": {},
     "output_type": "execute_result"
    }
   ],
   "source": [
    "next(iterator)"
   ]
  },
  {
   "cell_type": "markdown",
   "id": "e383138a-4277-4cc8-82f3-2fb82ee177d8",
   "metadata": {},
   "source": [
    "# Generator"
   ]
  },
  {
   "cell_type": "markdown",
   "id": "72d2cc2f-04c7-477a-b44e-4c97e124de7e",
   "metadata": {},
   "source": [
    "## Simple Example"
   ]
  },
  {
   "cell_type": "code",
   "execution_count": 11,
   "id": "f9a0cc9f-7e08-44ba-b530-1ea8510b030e",
   "metadata": {},
   "outputs": [],
   "source": [
    "def animal_generator():\n",
    "    yield \"anaconda\"\n",
    "    yield \"bat\"\n",
    "    yield \"cat\""
   ]
  },
  {
   "cell_type": "code",
   "execution_count": 13,
   "id": "98dbf83e-ecd8-4ca8-9116-d00437bd6ba4",
   "metadata": {},
   "outputs": [
    {
     "name": "stdout",
     "output_type": "stream",
     "text": [
      "anaconda\n",
      "bat\n",
      "cat\n"
     ]
    }
   ],
   "source": [
    "generator = animal_generator()\n",
    "print(next(generator))\n",
    "print(next(generator))\n",
    "print(next(generator))"
   ]
  },
  {
   "cell_type": "markdown",
   "id": "ea5e0ed2-2d87-45cb-856f-2cea9ec27494",
   "metadata": {},
   "source": [
    "## Infinite Generator"
   ]
  },
  {
   "cell_type": "code",
   "execution_count": 21,
   "id": "9d7303bb-e505-41fd-bbce-05c16f5fe56b",
   "metadata": {},
   "outputs": [],
   "source": [
    "# like a function, but the state of the variable\n",
    "# is stored between calls\n",
    "# returns value when yield is reached\n",
    "# continues after yield when called again\n",
    "# *** having a return is similar to raising a StopIteration Exception\n",
    "def counter():\n",
    "    start = 0\n",
    "    while True:\n",
    "        yield start\n",
    "        start += 1"
   ]
  },
  {
   "cell_type": "code",
   "execution_count": 22,
   "id": "32ad7cb4-41f0-42f1-bdbc-dbf81453e954",
   "metadata": {},
   "outputs": [
    {
     "name": "stdout",
     "output_type": "stream",
     "text": [
      "0\n",
      "1\n",
      "2\n",
      "3\n",
      "4\n"
     ]
    }
   ],
   "source": [
    "count = counter()\n",
    "for i in range(5):\n",
    "    print(next(count))"
   ]
  },
  {
   "cell_type": "code",
   "execution_count": 23,
   "id": "938fab7f-23e0-4bdc-bd8e-0eb0b52d8d59",
   "metadata": {},
   "outputs": [
    {
     "name": "stdout",
     "output_type": "stream",
     "text": [
      "1000\n"
     ]
    }
   ],
   "source": [
    "# iterate to infinity if no exit condition\n",
    "for i in count:\n",
    "    if i == 1000:\n",
    "        print(i)\n",
    "        break"
   ]
  },
  {
   "cell_type": "markdown",
   "id": "77af052f",
   "metadata": {},
   "source": [
    "## Sending / Receiving"
   ]
  },
  {
   "cell_type": "code",
   "execution_count": 6,
   "id": "cebb89c7",
   "metadata": {},
   "outputs": [],
   "source": [
    "from random import choice"
   ]
  },
  {
   "cell_type": "code",
   "execution_count": 7,
   "id": "0bf4f1c2",
   "metadata": {},
   "outputs": [],
   "source": [
    "def song_generator(song_list):\n",
    "    new_song = None\n",
    "    while True:\n",
    "        \n",
    "        # if a new song is sent to the generator\n",
    "        # append it to all songs\n",
    "        if new_song != None:\n",
    "            if new_song not in song_list:\n",
    "                song_list.append(new_song)\n",
    "        \n",
    "        # when next() is called\n",
    "        # it will recommend a song randomly from song list\n",
    "        # LHS: receiving variable\n",
    "        # RHS: yielding variable\n",
    "        new_song = yield choice(song_list)"
   ]
  },
  {
   "cell_type": "code",
   "execution_count": 32,
   "id": "8380309c",
   "metadata": {},
   "outputs": [],
   "source": [
    "gen = song_generator([\"A\", \"B\", \"C\", \"D\", \"E\"])"
   ]
  },
  {
   "cell_type": "code",
   "execution_count": 33,
   "id": "18984bed",
   "metadata": {},
   "outputs": [
    {
     "data": {
      "text/plain": [
       "'E'"
      ]
     },
     "execution_count": 33,
     "metadata": {},
     "output_type": "execute_result"
    }
   ],
   "source": [
    "# must run yield statement for the first time\n",
    "# next() sends None to the generator\n",
    "next(gen)"
   ]
  },
  {
   "cell_type": "code",
   "execution_count": 34,
   "id": "5af2dd22",
   "metadata": {},
   "outputs": [
    {
     "data": {
      "text/plain": [
       "'Z'"
      ]
     },
     "execution_count": 34,
     "metadata": {},
     "output_type": "execute_result"
    }
   ],
   "source": [
    "gen.send(\"Z\")"
   ]
  },
  {
   "cell_type": "markdown",
   "id": "6b6e9702",
   "metadata": {},
   "source": [
    "## throw()"
   ]
  },
  {
   "cell_type": "code",
   "execution_count": 35,
   "id": "d8017a7d",
   "metadata": {},
   "outputs": [],
   "source": [
    "def counter(first_value=0, step=1):\n",
    "    count = first_value\n",
    "    \n",
    "    while True:\n",
    "        try:\n",
    "            new_first_value = yield count\n",
    "            if new_first_value == None:\n",
    "                count += step\n",
    "            else:\n",
    "                count = new_first_value\n",
    "        except Exception:\n",
    "            yield (\"The current count is:\", count)"
   ]
  },
  {
   "cell_type": "code",
   "execution_count": 41,
   "id": "cc314181",
   "metadata": {},
   "outputs": [
    {
     "data": {
      "text/plain": [
       "0"
      ]
     },
     "execution_count": 41,
     "metadata": {},
     "output_type": "execute_result"
    }
   ],
   "source": [
    "counter1 = counter()\n",
    "next(counter1)"
   ]
  },
  {
   "cell_type": "code",
   "execution_count": 42,
   "id": "83ecd1f5",
   "metadata": {},
   "outputs": [
    {
     "data": {
      "text/plain": [
       "('The current count is:', 5)"
      ]
     },
     "execution_count": 42,
     "metadata": {},
     "output_type": "execute_result"
    }
   ],
   "source": [
    "for i in range(5):\n",
    "    next(counter1)\n",
    "    \n",
    "counter1.throw(Exception)"
   ]
  },
  {
   "cell_type": "code",
   "execution_count": 43,
   "id": "3b9a2abd",
   "metadata": {},
   "outputs": [
    {
     "data": {
      "text/plain": [
       "('The current count is:', 9)"
      ]
     },
     "execution_count": 43,
     "metadata": {},
     "output_type": "execute_result"
    }
   ],
   "source": [
    "# ability to 'interrupt' the iteration with an exception\n",
    "# and yield some values, then continue\n",
    "for i in range(5):\n",
    "    next(counter1)\n",
    "    \n",
    "counter1.throw(Exception)"
   ]
  },
  {
   "cell_type": "markdown",
   "id": "ce16590e",
   "metadata": {},
   "source": [
    "## yield from\n",
    "\n",
    "Substitute a for-loop"
   ]
  },
  {
   "cell_type": "code",
   "execution_count": 44,
   "id": "83ad21e2",
   "metadata": {},
   "outputs": [],
   "source": [
    "def generator():\n",
    "    yield from \"Python\""
   ]
  },
  {
   "cell_type": "code",
   "execution_count": 45,
   "id": "368e32e9",
   "metadata": {},
   "outputs": [
    {
     "name": "stdout",
     "output_type": "stream",
     "text": [
      "P y t h o n "
     ]
    }
   ],
   "source": [
    "gen = generator()\n",
    "\n",
    "for i in gen:\n",
    "    print(i, end=\" \")"
   ]
  },
  {
   "cell_type": "markdown",
   "id": "707503e3",
   "metadata": {},
   "source": [
    "# Decorators"
   ]
  },
  {
   "cell_type": "markdown",
   "id": "aad67f84",
   "metadata": {},
   "source": [
    "### Syntax of General Decorator"
   ]
  },
  {
   "cell_type": "markdown",
   "id": "4325e7f4",
   "metadata": {},
   "source": [
    "A function that takes in and returns a function while adding functionalities and preserving its code."
   ]
  },
  {
   "cell_type": "code",
   "execution_count": 8,
   "id": "b0baa0de",
   "metadata": {},
   "outputs": [],
   "source": [
    "def decorator(func):\n",
    "    \"\"\"Calls the original function with arbitrary inputs,\n",
    "    with added functionality of printing a statement.\"\"\"\n",
    "    \n",
    "    print(f\"Function {func.__name__} has been decorated.\")\n",
    "    \n",
    "    def decorated_function(*args, **kwargs):\n",
    "        \"\"\"Original function with added functionality.\n",
    "        \"\"\"\n",
    "        print(f\"The decorated version of {func.__name__} has been called.\") # added print functionality\n",
    "        return func(*args, **kwargs)\n",
    "    \n",
    "    return decorated_function"
   ]
  },
  {
   "cell_type": "markdown",
   "id": "c881d1f1",
   "metadata": {},
   "source": [
    "One way of applying the decorator:"
   ]
  },
  {
   "cell_type": "code",
   "execution_count": 2,
   "id": "f7646834",
   "metadata": {},
   "outputs": [
    {
     "name": "stdout",
     "output_type": "stream",
     "text": [
      "Function func has been decorated.\n"
     ]
    }
   ],
   "source": [
    "def func(a, b, c, d):\n",
    "    return (a + b)*(c + d)\n",
    "\n",
    "decorated_func = decorator(func)"
   ]
  },
  {
   "cell_type": "code",
   "execution_count": 3,
   "id": "4442a38a",
   "metadata": {},
   "outputs": [
    {
     "name": "stdout",
     "output_type": "stream",
     "text": [
      "The decorated version of func has been called.\n"
     ]
    },
    {
     "data": {
      "text/plain": [
       "21"
      ]
     },
     "execution_count": 3,
     "metadata": {},
     "output_type": "execute_result"
    }
   ],
   "source": [
    "decorated_func(1, 2, c=3, d=4)"
   ]
  },
  {
   "cell_type": "markdown",
   "id": "259f8611",
   "metadata": {},
   "source": [
    "Another way:"
   ]
  },
  {
   "cell_type": "code",
   "execution_count": 9,
   "id": "0496ea91",
   "metadata": {},
   "outputs": [
    {
     "name": "stdout",
     "output_type": "stream",
     "text": [
      "Function func has been decorated.\n"
     ]
    }
   ],
   "source": [
    "@decorator\n",
    "def func(a, b, c, d):\n",
    "    return (a + b)*(c + d)"
   ]
  },
  {
   "cell_type": "code",
   "execution_count": 10,
   "id": "33010797",
   "metadata": {},
   "outputs": [
    {
     "name": "stdout",
     "output_type": "stream",
     "text": [
      "The decorated version of func has been called.\n"
     ]
    },
    {
     "data": {
      "text/plain": [
       "21"
      ]
     },
     "execution_count": 10,
     "metadata": {},
     "output_type": "execute_result"
    }
   ],
   "source": [
    "func(1, 2, c=3, d=4)"
   ]
  },
  {
   "cell_type": "markdown",
   "id": "2c63d455",
   "metadata": {},
   "source": [
    "The wrapper's details replaces that of the original function."
   ]
  },
  {
   "cell_type": "code",
   "execution_count": 12,
   "id": "29fa6312",
   "metadata": {},
   "outputs": [
    {
     "name": "stdout",
     "output_type": "stream",
     "text": [
      "decorated_function\n",
      "Original function with added functionality.\n",
      "        \n",
      "__main__\n"
     ]
    }
   ],
   "source": [
    "print(func.__name__, func.__doc__, func.__module__, sep=\"\\n\")"
   ]
  },
  {
   "cell_type": "markdown",
   "id": "1bf58363",
   "metadata": {},
   "source": [
    "### Multiple Decorators"
   ]
  },
  {
   "cell_type": "markdown",
   "id": "33cd519c",
   "metadata": {},
   "source": [
    "With multiple decorators, the order of wrapping the function is 1,2,3 and order of calling the wrappers is 3,2,1."
   ]
  },
  {
   "cell_type": "code",
   "execution_count": null,
   "id": "e96c9bd3",
   "metadata": {},
   "outputs": [],
   "source": [
    "@deco3\n",
    "@deco2\n",
    "@deco1\n",
    "def func(x):\n",
    "    pass"
   ]
  },
  {
   "cell_type": "markdown",
   "id": "64332bb6",
   "metadata": {},
   "source": [
    "### Common use cases\n",
    "\n",
    "1) Checking / validating arguments\n",
    "2) Counting function calls"
   ]
  },
  {
   "cell_type": "markdown",
   "id": "879903c6",
   "metadata": {},
   "source": [
    "### Decorators with Parameters\n",
    "\n",
    "Add an additional 'layer' of function definition to receive parameters."
   ]
  },
  {
   "cell_type": "code",
   "execution_count": null,
   "id": "6cbfd235",
   "metadata": {},
   "outputs": [],
   "source": [
    "def customized_wording(verb):\n",
    "    \n",
    "    def decorator(func):\n",
    "        \"\"\"Calls the original function with arbitrary inputs,\n",
    "        with added functionality of printing a statement.\"\"\"\n",
    "\n",
    "        print(f\"Function {func.__name__} has been {verb}.\")\n",
    "\n",
    "        def decorated_function(*args, **kwargs):\n",
    "            print(f\"The {verb} version of {func.__name__} has been called.\") # added print functionality\n",
    "            return func(*args, **kwargs)\n",
    "\n",
    "        return decorated_function\n",
    "    \n",
    "    return decorator"
   ]
  },
  {
   "cell_type": "code",
   "execution_count": null,
   "id": "442e8fe1",
   "metadata": {},
   "outputs": [],
   "source": [
    "@customized_wording(\"beautified\")\n",
    "def func(a, b, c, d):\n",
    "    return (a + b)*(c + d)"
   ]
  },
  {
   "cell_type": "code",
   "execution_count": null,
   "id": "b80a1c70",
   "metadata": {},
   "outputs": [],
   "source": [
    "func(1, 2, c=3, d=4)"
   ]
  },
  {
   "cell_type": "markdown",
   "id": "9f0976c1",
   "metadata": {},
   "source": [
    "### @wraps\n",
    "\n",
    "Preserves .\\__name__, .\\__doc__, .\\__module__ of wrapped function."
   ]
  },
  {
   "cell_type": "code",
   "execution_count": 13,
   "id": "a7bc4e27",
   "metadata": {},
   "outputs": [],
   "source": [
    "from functools import wraps"
   ]
  },
  {
   "cell_type": "code",
   "execution_count": 16,
   "id": "2cb80bbe",
   "metadata": {},
   "outputs": [],
   "source": [
    "def decorator(func):\n",
    "    @wraps(func) # add this decorator\n",
    "    def decorated_function(*args, **kwargs):\n",
    "        \"\"\"Original function with added functionality.\n",
    "        \"\"\"\n",
    "        print(f\"The decorated version of {func.__name__} has been called.\") # added print functionality\n",
    "        return func(*args, **kwargs)\n",
    "    \n",
    "    return decorated_function"
   ]
  },
  {
   "cell_type": "code",
   "execution_count": 17,
   "id": "1d6b61a0",
   "metadata": {},
   "outputs": [],
   "source": [
    "@decorator\n",
    "def func(a, b, c, d):\n",
    "    \"\"\"Returns (a+b)*(c+d)\"\"\"\n",
    "    return (a + b)*(c + d)"
   ]
  },
  {
   "cell_type": "code",
   "execution_count": 18,
   "id": "152afc13",
   "metadata": {},
   "outputs": [
    {
     "name": "stdout",
     "output_type": "stream",
     "text": [
      "func\n",
      "Returns (a+b)*(c+d)\n",
      "__main__\n"
     ]
    }
   ],
   "source": [
    "print(func.__name__, func.__doc__, func.__module__, sep=\"\\n\")"
   ]
  }
 ],
 "metadata": {
  "kernelspec": {
   "display_name": "Python 3 (ipykernel)",
   "language": "python",
   "name": "python3"
  },
  "language_info": {
   "codemirror_mode": {
    "name": "ipython",
    "version": 3
   },
   "file_extension": ".py",
   "mimetype": "text/x-python",
   "name": "python",
   "nbconvert_exporter": "python",
   "pygments_lexer": "ipython3",
   "version": "3.10.9"
  }
 },
 "nbformat": 4,
 "nbformat_minor": 5
}

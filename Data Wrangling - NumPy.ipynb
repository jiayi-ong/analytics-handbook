{
 "cells": [
  {
   "cell_type": "code",
   "execution_count": 1,
   "id": "538175da",
   "metadata": {},
   "outputs": [],
   "source": [
    "import numpy as np"
   ]
  },
  {
   "cell_type": "markdown",
   "id": "80f6ba13",
   "metadata": {},
   "source": [
    "<a id=\"0\"></a> <br>\n",
    " # Table of Contents\n",
    " \n",
    " 1. [Array Creation Routines](#arrcreation)\n",
    " 1. [Array Manipulation Routines](#arrmanipulation)\n",
    " 1. [Sorting, Searching, Counting](#sortsearchcount)\n",
    " 1. [Functional Programming](#functional)\n",
    " 1. [Statistics](#statistics)\n",
    " 1. [Random](#random)\n",
    " 1. [Mathematical Functions](#mathfunc)\n",
    " 1. [Linear Algebra](#linearalgebra)\n",
    " 1. [Input / Output](#inputoutput)"
   ]
  },
  {
   "cell_type": "code",
   "execution_count": null,
   "id": "12466663",
   "metadata": {},
   "outputs": [],
   "source": [
    "# np.concatenate\n",
    "# np.pad\n",
    "# np.allclose\n",
    "# np.block\n",
    "# .flatten()"
   ]
  },
  {
   "cell_type": "markdown",
   "id": "d8d4614b",
   "metadata": {},
   "source": [
    "## ----- Array Creation Routines ------\n",
    "https://numpy.org/doc/stable/reference/routines.array-creation.html\n",
    "\n",
    "[Table of Contents](#0)"
   ]
  },
  {
   "cell_type": "code",
   "execution_count": 2,
   "id": "9f449393",
   "metadata": {},
   "outputs": [
    {
     "data": {
      "text/plain": [
       "array([[1, 2, 3],\n",
       "       [4, 5, 6],\n",
       "       [7, 8, 9]])"
      ]
     },
     "execution_count": 2,
     "metadata": {},
     "output_type": "execute_result"
    }
   ],
   "source": [
    "np.array([[1,2,3], [4,5,6], [7,8,9]])"
   ]
  },
  {
   "cell_type": "code",
   "execution_count": 3,
   "id": "137e7fbd",
   "metadata": {},
   "outputs": [
    {
     "data": {
      "text/plain": [
       "array([1, 5, 9])"
      ]
     },
     "execution_count": 3,
     "metadata": {},
     "output_type": "execute_result"
    }
   ],
   "source": [
    "np.empty(shape=(5,3), dtype=str)\n",
    "np.identity(n=5)\n",
    "np.ones(shape=(5,3))\n",
    "np.zeros(shape=(5,3))\n",
    "np.full(shape=(5,3), fill_value=10)\n",
    "\n",
    "## create a diagonal matrix, or get diagonal from matrix\n",
    "np.diag([1,2,3])\n",
    "np.diag([[1,2,3], [4,5,6], [7,8,9]], k=0)\n",
    "# k = -1 or 1, one diagonal below or above main diagonal"
   ]
  },
  {
   "cell_type": "markdown",
   "id": "fee0b8d9",
   "metadata": {},
   "source": [
    "### arange"
   ]
  },
  {
   "cell_type": "code",
   "execution_count": 4,
   "id": "76ee3db7",
   "metadata": {},
   "outputs": [
    {
     "data": {
      "text/plain": [
       "array([ 0.5,  2. ,  3.5,  5. ,  6.5,  8. ,  9.5, 11. , 12.5, 14. , 15.5,\n",
       "       17. , 18.5])"
      ]
     },
     "execution_count": 4,
     "metadata": {},
     "output_type": "execute_result"
    }
   ],
   "source": [
    "np.arange(start=0.5, stop=20, step=1.5)"
   ]
  },
  {
   "cell_type": "markdown",
   "id": "886ef38f",
   "metadata": {},
   "source": [
    "### linspace / logspace"
   ]
  },
  {
   "cell_type": "code",
   "execution_count": 5,
   "id": "deac7674",
   "metadata": {},
   "outputs": [
    {
     "data": {
      "text/plain": [
       "array([0. , 0.5, 1. , 1.5, 2. , 2.5, 3. , 3.5, 4. , 4.5, 5. , 5.5, 6. ,\n",
       "       6.5, 7. , 7.5, 8. , 8.5, 9. , 9.5])"
      ]
     },
     "execution_count": 5,
     "metadata": {},
     "output_type": "execute_result"
    }
   ],
   "source": [
    "np.linspace(start=0, stop=10, num=20, endpoint=False)"
   ]
  },
  {
   "cell_type": "code",
   "execution_count": 6,
   "id": "ea3c01b6",
   "metadata": {},
   "outputs": [
    {
     "data": {
      "text/plain": [
       "array([[ 1.  ,  3.25,  5.5 ,  7.75, 10.  ],\n",
       "       [ 2.  ,  6.5 , 11.  , 15.5 , 20.  ],\n",
       "       [ 3.  ,  9.75, 16.5 , 23.25, 30.  ]])"
      ]
     },
     "execution_count": 6,
     "metadata": {},
     "output_type": "execute_result"
    }
   ],
   "source": [
    "np.linspace(start=np.array([1,2,3]), stop=np.array([10,20,30]), num=5, axis=1)"
   ]
  },
  {
   "cell_type": "code",
   "execution_count": 7,
   "id": "a830d7ee",
   "metadata": {},
   "outputs": [
    {
     "data": {
      "text/plain": [
       "array([  1.        ,   1.66810054,   2.7825594 ,   4.64158883,\n",
       "         7.74263683,  12.91549665,  21.5443469 ,  35.93813664,\n",
       "        59.94842503, 100.        ])"
      ]
     },
     "execution_count": 7,
     "metadata": {},
     "output_type": "execute_result"
    }
   ],
   "source": [
    "# first and last values are base ** start, base ** stop\n",
    "np.logspace(start=0, stop=2, num=10, base=10)"
   ]
  },
  {
   "cell_type": "markdown",
   "id": "fb6bcdfa",
   "metadata": {},
   "source": [
    "<a id=\"arrmanipulation\"><a/>\n",
    "## ----- Array Manipulation Routines -----\n",
    "[Table of Contents](#0)"
   ]
  },
  {
   "cell_type": "code",
   "execution_count": 8,
   "id": "bd4a7afe",
   "metadata": {},
   "outputs": [],
   "source": [
    "# initialize arrays\n",
    "u = np.array([1,2,3])\n",
    "v = np.array([4,5,6])\n",
    "A = np.array([[1,2,3], [4,5,6]])\n",
    "B = np.array([[10,20,30], [40,50,60]])"
   ]
  },
  {
   "cell_type": "markdown",
   "id": "a5a0f230",
   "metadata": {},
   "source": [
    "### stacks"
   ]
  },
  {
   "cell_type": "code",
   "execution_count": 11,
   "id": "da296025",
   "metadata": {},
   "outputs": [
    {
     "data": {
      "text/plain": [
       "array([[1, 2, 3],\n",
       "       [4, 5, 6],\n",
       "       [4, 5, 6]])"
      ]
     },
     "execution_count": 11,
     "metadata": {},
     "output_type": "execute_result"
    }
   ],
   "source": [
    "# stack along NEW axis\n",
    "np.stack(arrays=[u, v], axis=1)    # axis=0 -> (2,3), axis=1 -> (3,2)\n",
    "np.stack(arrays=[A, B], axis=1)    # axis=0 or 1 -> (2,2,3)\n",
    "\n",
    "# stack as rows\n",
    "np.hstack([u,v])  # -> (6,)\n",
    "np.hstack([A,B])  # -> (2,6)\n",
    "\n",
    "# stack as columns\n",
    "np.vstack([u,v])  # -> (2,3)\n",
    "np.vstack([A,v])  # -> (3,3)"
   ]
  },
  {
   "cell_type": "markdown",
   "id": "18733d11",
   "metadata": {},
   "source": [
    "### tile"
   ]
  },
  {
   "cell_type": "code",
   "execution_count": 12,
   "id": "7591dfa3",
   "metadata": {},
   "outputs": [
    {
     "data": {
      "text/plain": [
       "array([1, 2, 3, 1, 2, 3, 1, 2, 3, 1, 2, 3, 1, 2, 3])"
      ]
     },
     "execution_count": 12,
     "metadata": {},
     "output_type": "execute_result"
    }
   ],
   "source": [
    "np.tile(A=u, reps=5)"
   ]
  },
  {
   "cell_type": "code",
   "execution_count": 13,
   "id": "16beab11",
   "metadata": {},
   "outputs": [
    {
     "data": {
      "text/plain": [
       "array([[1, 2, 3, 1, 2, 3, 1, 2, 3, 1, 2, 3, 1, 2, 3],\n",
       "       [4, 5, 6, 4, 5, 6, 4, 5, 6, 4, 5, 6, 4, 5, 6]])"
      ]
     },
     "execution_count": 13,
     "metadata": {},
     "output_type": "execute_result"
    }
   ],
   "source": [
    "np.tile(A=A, reps=5)"
   ]
  },
  {
   "cell_type": "markdown",
   "id": "8543fd26",
   "metadata": {},
   "source": [
    "### repeat"
   ]
  },
  {
   "cell_type": "code",
   "execution_count": 14,
   "id": "779094a3",
   "metadata": {},
   "outputs": [
    {
     "data": {
      "text/plain": [
       "array([1, 1, 1, 1, 1, 2, 2, 2, 2, 2, 3, 3, 3, 3, 3])"
      ]
     },
     "execution_count": 14,
     "metadata": {},
     "output_type": "execute_result"
    }
   ],
   "source": [
    "np.repeat(a=u, repeats=5, axis=0)"
   ]
  },
  {
   "cell_type": "code",
   "execution_count": 15,
   "id": "367bbcb7",
   "metadata": {},
   "outputs": [
    {
     "data": {
      "text/plain": [
       "array([[1, 2, 3],\n",
       "       [1, 2, 3],\n",
       "       [1, 2, 3],\n",
       "       [4, 5, 6],\n",
       "       [4, 5, 6],\n",
       "       [4, 5, 6]])"
      ]
     },
     "execution_count": 15,
     "metadata": {},
     "output_type": "execute_result"
    }
   ],
   "source": [
    "np.repeat(a=A, repeats=3, axis=0)"
   ]
  },
  {
   "cell_type": "code",
   "execution_count": 16,
   "id": "ef8444b1",
   "metadata": {},
   "outputs": [
    {
     "data": {
      "text/plain": [
       "array([[1, 1, 1, 2, 2, 2, 3, 3, 3],\n",
       "       [4, 4, 4, 5, 5, 5, 6, 6, 6]])"
      ]
     },
     "execution_count": 16,
     "metadata": {},
     "output_type": "execute_result"
    }
   ],
   "source": [
    "np.repeat(a=A, repeats=3, axis=1)"
   ]
  },
  {
   "cell_type": "markdown",
   "id": "99b4fb8e",
   "metadata": {},
   "source": [
    "<a id=\"sortsearchcount\"><a/>\n",
    "## ----- Sorting, Searching, and Counting -----\n",
    "[Table of Contents](#0)"
   ]
  },
  {
   "cell_type": "code",
   "execution_count": 17,
   "id": "3ecaa9f8",
   "metadata": {},
   "outputs": [],
   "source": [
    "M = np.array(np.linspace(0.5,20,20)).reshape(10,2)"
   ]
  },
  {
   "cell_type": "code",
   "execution_count": 18,
   "id": "97851d1f",
   "metadata": {},
   "outputs": [
    {
     "data": {
      "text/plain": [
       "(array([ 0.5       ,  1.52631579,  2.55263158,  3.57894737,  4.60526316,\n",
       "         5.63157895,  6.65789474,  7.68421053,  8.71052632,  9.73684211,\n",
       "        10.76315789, 11.78947368, 12.81578947, 13.84210526, 14.86842105,\n",
       "        15.89473684, 16.92105263, 17.94736842, 18.97368421, 20.        ]),\n",
       " array([1, 1, 1, 1, 1, 1, 1, 1, 1, 1, 1, 1, 1, 1, 1, 1, 1, 1, 1, 1],\n",
       "       dtype=int64))"
      ]
     },
     "execution_count": 18,
     "metadata": {},
     "output_type": "execute_result"
    }
   ],
   "source": [
    "np.unique(M, return_counts=True)"
   ]
  },
  {
   "cell_type": "code",
   "execution_count": 19,
   "id": "5208d10f",
   "metadata": {},
   "outputs": [
    {
     "data": {
      "text/plain": [
       "array([9, 9], dtype=int64)"
      ]
     },
     "execution_count": 19,
     "metadata": {},
     "output_type": "execute_result"
    }
   ],
   "source": [
    "# argmax, argmin, nanargmax, nanargmin\n",
    "np.argmax(M, axis=0)"
   ]
  },
  {
   "cell_type": "code",
   "execution_count": 20,
   "id": "c69d9ac2",
   "metadata": {},
   "outputs": [
    {
     "data": {
      "text/plain": [
       "array([[5, 0],\n",
       "       [5, 1],\n",
       "       [6, 0],\n",
       "       [6, 1],\n",
       "       [7, 0],\n",
       "       [7, 1],\n",
       "       [8, 0],\n",
       "       [8, 1],\n",
       "       [9, 0],\n",
       "       [9, 1]], dtype=int64)"
      ]
     },
     "execution_count": 20,
     "metadata": {},
     "output_type": "execute_result"
    }
   ],
   "source": [
    "# first row of output: [5, 0] means row index 5, 0th element satisfies condition\n",
    "np.argwhere(M > 10)"
   ]
  },
  {
   "cell_type": "code",
   "execution_count": 21,
   "id": "044ae19b",
   "metadata": {},
   "outputs": [
    {
     "data": {
      "text/plain": [
       "(array([0, 0, 1, 1, 2, 2, 3, 3, 4, 4, 5, 5, 6, 6, 7, 7, 8, 8, 9, 9],\n",
       "       dtype=int64),\n",
       " array([0, 1, 0, 1, 0, 1, 0, 1, 0, 1, 0, 1, 0, 1, 0, 1, 0, 1, 0, 1],\n",
       "       dtype=int64))"
      ]
     },
     "execution_count": 21,
     "metadata": {},
     "output_type": "execute_result"
    }
   ],
   "source": [
    "np.nonzero(M)"
   ]
  },
  {
   "cell_type": "code",
   "execution_count": 22,
   "id": "73a8b733",
   "metadata": {},
   "outputs": [
    {
     "data": {
      "text/plain": [
       "array([[ 0.        ,  0.        ],\n",
       "       [ 0.        ,  0.        ],\n",
       "       [ 0.        ,  0.        ],\n",
       "       [ 0.        ,  0.        ],\n",
       "       [ 0.        ,  0.        ],\n",
       "       [10.76315789, 11.78947368],\n",
       "       [12.81578947, 13.84210526],\n",
       "       [14.86842105, 15.89473684],\n",
       "       [16.92105263, 17.94736842],\n",
       "       [18.97368421, 20.        ]])"
      ]
     },
     "execution_count": 22,
     "metadata": {},
     "output_type": "execute_result"
    }
   ],
   "source": [
    "# condition, value if true, value if false\n",
    "np.where(M < 10, 0, M)"
   ]
  },
  {
   "cell_type": "markdown",
   "id": "d5cf49ac",
   "metadata": {},
   "source": [
    "<a id=\"functional\"><a/>\n",
    "## ----- Functional Programming -----\n",
    "[Table of Contents](#0)"
   ]
  },
  {
   "cell_type": "code",
   "execution_count": 23,
   "id": "e678c301",
   "metadata": {},
   "outputs": [],
   "source": [
    "M = np.array(np.linspace(0.5,20,20)).reshape(10,2)"
   ]
  },
  {
   "cell_type": "markdown",
   "id": "ce836524",
   "metadata": {},
   "source": [
    "### apply_along_axis"
   ]
  },
  {
   "cell_type": "code",
   "execution_count": 24,
   "id": "7ffa5f32",
   "metadata": {},
   "outputs": [
    {
     "data": {
      "text/plain": [
       "array([ 1.01315789,  3.06578947,  5.11842105,  7.17105263,  9.22368421,\n",
       "       11.27631579, 13.32894737, 15.38157895, 17.43421053, 19.48684211])"
      ]
     },
     "execution_count": 24,
     "metadata": {},
     "output_type": "execute_result"
    }
   ],
   "source": [
    "np.apply_along_axis(func1d=np.mean, axis=1, arr=M)"
   ]
  },
  {
   "cell_type": "code",
   "execution_count": 25,
   "id": "80b4b431",
   "metadata": {},
   "outputs": [
    {
     "data": {
      "text/plain": [
       "array([ 9.73684211, 10.76315789])"
      ]
     },
     "execution_count": 25,
     "metadata": {},
     "output_type": "execute_result"
    }
   ],
   "source": [
    "# axis=1 -> operate across rows for each column\n",
    "# i.e. average first and last row for each columns\n",
    "function = lambda x: (x[0] + x[-1])/2\n",
    "np.apply_along_axis(func1d=function, axis=0, arr=M)"
   ]
  },
  {
   "cell_type": "markdown",
   "id": "c72f960a",
   "metadata": {},
   "source": [
    "### piecewise"
   ]
  },
  {
   "cell_type": "code",
   "execution_count": 26,
   "id": "eac6168c",
   "metadata": {},
   "outputs": [
    {
     "data": {
      "text/plain": [
       "array([-100,  101,  -98,  103,  -96,  105,  -94,  107,  -92,  109,  -90,\n",
       "        111,  -88,  113,  -86,  115,  -84,  117,  -82,  119])"
      ]
     },
     "execution_count": 26,
     "metadata": {},
     "output_type": "execute_result"
    }
   ],
   "source": [
    "# Wherever condlist[i] is True, funclist[i](x) is used as the output value.\n",
    "# add *args or **kwargs after\n",
    "# subtract even numbers by n, add odd numbers by n\n",
    "x = np.arange(0, 20)\n",
    "np.piecewise(x=x, \n",
    "             condlist=[x % 2 == 0, \n",
    "                       x % 2 == 1], \n",
    "             funclist=[lambda x, n: x - n, \n",
    "                       lambda x, n: x + n],\n",
    "             n=100)"
   ]
  },
  {
   "cell_type": "markdown",
   "id": "c2b68660",
   "metadata": {},
   "source": [
    "<a id=\"statistics\"><a/>\n",
    "## ----- Statistics -----\n",
    "[Table of Contents](#0)"
   ]
  },
  {
   "cell_type": "code",
   "execution_count": 27,
   "id": "54ddfccd",
   "metadata": {},
   "outputs": [],
   "source": [
    "M = np.array(np.linspace(0.5,20,20)).reshape(10,2)"
   ]
  },
  {
   "cell_type": "code",
   "execution_count": 28,
   "id": "3bbd1cbe",
   "metadata": {},
   "outputs": [
    {
     "data": {
      "text/plain": [
       "35.02302631578947"
      ]
     },
     "execution_count": 28,
     "metadata": {},
     "output_type": "execute_result"
    }
   ],
   "source": [
    "# add nan to ignore nan values e.g. np.nanmean()\n",
    "# axis=0 -> along each row, axis=1 along each col\n",
    "np.mean(M, axis=None)\n",
    "np.median(M, axis=None)\n",
    "np.std(M, axis=None)\n",
    "np.var(M, axis=None)"
   ]
  },
  {
   "cell_type": "code",
   "execution_count": 29,
   "id": "7cf7b35c",
   "metadata": {},
   "outputs": [
    {
     "data": {
      "text/plain": [
       "1.9999999999999998"
      ]
     },
     "execution_count": 29,
     "metadata": {},
     "output_type": "execute_result"
    }
   ],
   "source": [
    "np.average(a=np.array([1,2,3]), weights=[0.3,0.2,0.3])"
   ]
  },
  {
   "cell_type": "markdown",
   "id": "b6d8330e",
   "metadata": {},
   "source": [
    "### percentile / nanpercentile"
   ]
  },
  {
   "cell_type": "code",
   "execution_count": 30,
   "id": "6affcf69",
   "metadata": {},
   "outputs": [
    {
     "data": {
      "text/plain": [
       "array([  2.,  12.,  22.,  32.,  42.,  52.,  62.,  72.,  82.,  92., 102.,\n",
       "       112., 122., 132., 142., 152., 162., 172., 182., 192.])"
      ]
     },
     "execution_count": 30,
     "metadata": {},
     "output_type": "execute_result"
    }
   ],
   "source": [
    "# q=0 -> min, q=100 -> max\n",
    "np.percentile(np.linspace(0,200,65), q=np.arange(1,100,5))"
   ]
  },
  {
   "cell_type": "markdown",
   "id": "a1c9d44e",
   "metadata": {},
   "source": [
    "<a id=\"random\"><a/>\n",
    "## ----- Random -----\n",
    "\n",
    "For probability distributions: https://numpy.org/doc/stable/reference/random/generated/numpy.random.beta.html\n",
    "\n",
    "[Table of Contents](#0)"
   ]
  },
  {
   "cell_type": "code",
   "execution_count": 31,
   "id": "022aaa8d",
   "metadata": {},
   "outputs": [
    {
     "data": {
      "text/plain": [
       "[2, 1, 4, 5, 3]"
      ]
     },
     "execution_count": 31,
     "metadata": {},
     "output_type": "execute_result"
    }
   ],
   "source": [
    "x = [1,2,3,4,5]\n",
    "np.random.shuffle(x)\n",
    "x"
   ]
  },
  {
   "cell_type": "code",
   "execution_count": 32,
   "id": "02adfea2",
   "metadata": {},
   "outputs": [
    {
     "data": {
      "text/plain": [
       "array([2, 3])"
      ]
     },
     "execution_count": 32,
     "metadata": {},
     "output_type": "execute_result"
    }
   ],
   "source": [
    "np.random.choice(a=[1,2,3,4,5], size=2, replace=True, p=[0.15, 0.15, 0.20, 0.35, 0.15])"
   ]
  },
  {
   "cell_type": "markdown",
   "id": "ff7fd988",
   "metadata": {},
   "source": [
    "<a id=\"mathfunc\"><a/>\n",
    "## ----- Mathematical Functions -----\n",
    "https://numpy.org/doc/stable/reference/routines.math.html\n",
    "\n",
    "[Table of Contents](#0)"
   ]
  },
  {
   "cell_type": "code",
   "execution_count": 33,
   "id": "852460dc",
   "metadata": {},
   "outputs": [],
   "source": [
    "M = np.array(np.linspace(0.5,20,20)).reshape(10,2)"
   ]
  },
  {
   "cell_type": "code",
   "execution_count": 34,
   "id": "36192b7c",
   "metadata": {},
   "outputs": [
    {
     "data": {
      "text/plain": [
       "array([[  0.5       ,   1.52631579],\n",
       "       [  3.05263158,   5.10526316],\n",
       "       [  7.65789474,  10.73684211],\n",
       "       [ 14.31578947,  18.42105263],\n",
       "       [ 23.02631579,  28.15789474],\n",
       "       [ 33.78947368,  39.94736842],\n",
       "       [ 46.60526316,  53.78947368],\n",
       "       [ 61.47368421,  69.68421053],\n",
       "       [ 78.39473684,  87.63157895],\n",
       "       [ 97.36842105, 107.63157895]])"
      ]
     },
     "execution_count": 34,
     "metadata": {},
     "output_type": "execute_result"
    }
   ],
   "source": [
    "np.floor(M)\n",
    "np.ceil(M)\n",
    "np.prod(M, axis=None)\n",
    "np.sum(M, axis=None)\n",
    "np.cumprod(M, axis=0) # cumulatively multiply downwards across rows for each column\n",
    "np.cumsum(M, axis=0)"
   ]
  },
  {
   "cell_type": "markdown",
   "id": "8a666acb",
   "metadata": {},
   "source": [
    "<a id=\"linearalgebra\"><a/>\n",
    "## ----- Linear Algebra -----\n",
    "[Table of Contents](#0)"
   ]
  },
  {
   "cell_type": "code",
   "execution_count": null,
   "id": "02164c23",
   "metadata": {},
   "outputs": [],
   "source": [
    "# broadcast operation\n",
    "u+10\n",
    "u*10\n",
    "\n",
    "# element-wise addition/multiplication\n",
    "u+v\n",
    "u*v\n",
    "\n",
    "# dot product for 1D array // cross product for >2D array\n",
    "np.dot(u,v)\n",
    "\n",
    "# matrix multiplication\n",
    "np.matmul(M.T, M) # two inputs\n",
    "np.linalg.multi_dot([A, B, C]) # multiple inputs\n",
    "\n",
    "# compute inverse matrix\n",
    "np.linalg.inv(M)"
   ]
  },
  {
   "cell_type": "markdown",
   "id": "9eb069f7",
   "metadata": {},
   "source": [
    "<a id=\"inputoutput\"><a/>\n",
    "## ----- Input / Output -----\n",
    "[Table of Contents](#0)"
   ]
  },
  {
   "cell_type": "code",
   "execution_count": null,
   "id": "75973b4f",
   "metadata": {},
   "outputs": [],
   "source": [
    "np.savetxt(\"filename.csv\", export_data, delimiter=\",\")"
   ]
  }
 ],
 "metadata": {
  "kernelspec": {
   "display_name": "Python 3 (ipykernel)",
   "language": "python",
   "name": "python3"
  },
  "language_info": {
   "codemirror_mode": {
    "name": "ipython",
    "version": 3
   },
   "file_extension": ".py",
   "mimetype": "text/x-python",
   "name": "python",
   "nbconvert_exporter": "python",
   "pygments_lexer": "ipython3",
   "version": "3.10.9"
  }
 },
 "nbformat": 4,
 "nbformat_minor": 5
}

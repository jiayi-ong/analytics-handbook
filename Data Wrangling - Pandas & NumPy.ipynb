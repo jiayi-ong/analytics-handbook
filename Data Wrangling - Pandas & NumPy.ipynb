{
 "cells": [
  {
   "cell_type": "code",
   "execution_count": 1,
   "id": "141182f1",
   "metadata": {},
   "outputs": [],
   "source": [
    "import pandas as pd\n",
    "import numpy as np"
   ]
  },
  {
   "cell_type": "code",
   "execution_count": null,
   "id": "4000f27f",
   "metadata": {},
   "outputs": [],
   "source": [
    "pd.MultiIndex.from_arrays()"
   ]
  },
  {
   "cell_type": "code",
   "execution_count": null,
   "id": "2e25668f",
   "metadata": {},
   "outputs": [],
   "source": [
    "pd.read_csv()\n",
    "pd.read_excel()\n",
    "pd.ExcelWriter\n",
    ".to_excel()\n",
    "pd.to_numeric()\n",
    "pd.get_dummies()\n",
    "pd.DataFrame()\n",
    "pd.cut()\n",
    ".unique() .nunique() .size() .sum() .prod() .mean() .std() .pct_change() .corr()\n",
    ".replace()\n",
    ".map()\n",
    ".shift()\n",
    ".isna()\n",
    ".fillna()\n",
    ".astype()\n",
    ".reset_index()\n",
    ".isin()\n",
    ".query()\n",
    ".merge()\n",
    ".concat()\n",
    ".rename()\n",
    ".dropna()\n",
    ".drop()\n",
    ".drop_duplicates()\n",
    ".set_index()\n",
    ".set_axis()\n",
    ".sort_values()\n",
    ".sort_index()\n",
    ".reindex()\n",
    ".groupby()\n",
    ".agg()\n",
    ".apply()\n",
    ".assign(var = lambda x: x) / .assign(**{\"var\": lambda x: x, \"var2\": lambda x: x})\n",
    ".unstack()\n",
    ".stack()\n",
    ".pivot()\n",
    ".melt()\n",
    ".iterrows()\n",
    ".round({\"var\": 2})\n",
    ".str.split()\n",
    ".str.contains()\n",
    ".T # creates a view"
   ]
  },
  {
   "cell_type": "code",
   "execution_count": null,
   "id": "bcf60087",
   "metadata": {},
   "outputs": [],
   "source": [
    "index.repeat()"
   ]
  },
  {
   "cell_type": "code",
   "execution_count": null,
   "id": "5a05482e",
   "metadata": {},
   "outputs": [],
   "source": [
    "pd.concat([A, B]) # with different columns with common subset"
   ]
  },
  {
   "cell_type": "code",
   "execution_count": null,
   "id": "4e6874ef",
   "metadata": {},
   "outputs": [],
   "source": [
    "df[[\"A_new\", \"B_new\", \"C_new\"]] = df[[\"A\", \"B\", \"C\"]].values * df[\"D\"].values.reshape(-1,1)"
   ]
  },
  {
   "cell_type": "markdown",
   "id": "d2ddc91e",
   "metadata": {},
   "source": [
    "# Input/Output"
   ]
  },
  {
   "cell_type": "code",
   "execution_count": null,
   "id": "63529362",
   "metadata": {},
   "outputs": [],
   "source": []
  },
  {
   "cell_type": "markdown",
   "id": "6410dba8",
   "metadata": {},
   "source": [
    "# Create DataFrame"
   ]
  },
  {
   "cell_type": "code",
   "execution_count": 19,
   "id": "e67fa385",
   "metadata": {},
   "outputs": [],
   "source": [
    "# from dictionary\n",
    "_ = pd.DataFrame({\"A\": [1,2,3], \"B\": [4,5,6]}, index=[0,1,2])\n",
    "\n",
    "# from list/nested list\n",
    "_ = pd.DataFrame([[1,2,3], [4,5,6]], columns=[\"A\",\"B\",\"C\"], index=[0,1])\n",
    "\n",
    "# from list of dictionaries\n",
    "_ = pd.DataFrame([{\"A\": 1, \"B\": 2}, {\"A\": 1, \"B\": 3}], index=[1,2])"
   ]
  },
  {
   "cell_type": "markdown",
   "id": "54c5e3a7",
   "metadata": {},
   "source": [
    "# Slicing / Querying"
   ]
  },
  {
   "cell_type": "code",
   "execution_count": null,
   "id": "578e22e6",
   "metadata": {},
   "outputs": [],
   "source": []
  },
  {
   "cell_type": "markdown",
   "id": "6090fe5f",
   "metadata": {},
   "source": [
    "# Mutability"
   ]
  },
  {
   "cell_type": "code",
   "execution_count": 6,
   "id": "804c3939",
   "metadata": {},
   "outputs": [],
   "source": [
    "# no issues with 'same reference' in inner list\n",
    "df1 = pd.DataFrame([[0,1,2]]*10)\n",
    "\n",
    "# changes the original df, unless copied\n",
    "def func(df):\n",
    "    df = df.copy(deep=True)\n",
    "    df.loc[5,0] = 1000\n",
    "    \n",
    "# df can be modified through df2\n",
    "# i.e. a view is created using .iloc, .loc, or df[\"col\"]\n",
    "df2 = df1.iloc[4:8,0:2].T\n",
    "df2.iloc[1,2] = 1000\n",
    "\n",
    "# a copy is created\n",
    "df2 = df1.loc[df1.index.repeat(3)]"
   ]
  },
  {
   "cell_type": "markdown",
   "id": "a790f923",
   "metadata": {},
   "source": [
    "# ----- Date / Time -----"
   ]
  },
  {
   "cell_type": "code",
   "execution_count": null,
   "id": "4bb9d3f5",
   "metadata": {},
   "outputs": [],
   "source": [
    "pd.date_range()\n",
    "pd.to_datetime()\n",
    "pd.DateOffset\n",
    ".dt."
   ]
  }
 ],
 "metadata": {
  "kernelspec": {
   "display_name": "Python 3 (ipykernel)",
   "language": "python",
   "name": "python3"
  },
  "language_info": {
   "codemirror_mode": {
    "name": "ipython",
    "version": 3
   },
   "file_extension": ".py",
   "mimetype": "text/x-python",
   "name": "python",
   "nbconvert_exporter": "python",
   "pygments_lexer": "ipython3",
   "version": "3.10.9"
  }
 },
 "nbformat": 4,
 "nbformat_minor": 5
}

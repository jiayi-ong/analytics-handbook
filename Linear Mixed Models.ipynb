{
 "cells": [
  {
   "cell_type": "markdown",
   "id": "fa24b03b",
   "metadata": {},
   "source": [
    "# ----- Linear Mixed Models -----"
   ]
  },
  {
   "cell_type": "markdown",
   "id": "b102ba3e",
   "metadata": {},
   "source": [
    "## Two-level Specification"
   ]
  },
  {
   "cell_type": "markdown",
   "id": "2a40a9f5",
   "metadata": {},
   "source": [
    "Response variable of individual $i$ of Group $j$ consists of Fixed Effects $(\\beta)$ and Random Effects $(\\gamma_j)$ attributed to group $j$:\n",
    "\n",
    "$y_{ij}|\\mu_{ij} \\sim \\mathcal{N} (\\mu_{ij}, \\tau^2)$ \n",
    "\n",
    "where\n",
    "\n",
    "$\\mu_{ij} = \\left( \\beta_0 + \\sum\\limits^{K}_{k=1} \\beta_k x_{ijk} \\right) + \\left( \\gamma_{j0} + \\sum\\limits^{P}_{p=1} \\gamma_{jp} z_{ijp} \\right)$\n",
    "\n",
    "and the random effects are jointly Normally distributed:\n",
    "\n",
    "$\\mathbb{E}[\\gamma_{jp}] = 0, \\hspace{3mm} \\forall \\space p = 0,...,P$\n",
    "\n",
    "$\\mathbb{COV}[\\gamma_{jp}, \\gamma_{jp'}] = \\sigma_{pp'}$"
   ]
  },
  {
   "cell_type": "markdown",
   "id": "533189e2",
   "metadata": {},
   "source": [
    "In matrix notation:\n",
    "\n",
    "$\\mathbf{y} | \\mathbf{\\mu} \\sim \\mathcal{N} (\\mathbf{\\mu}, \\tau^2\\mathbf{I})$ \n",
    "\n",
    "$\\mathbf{\\mu} = \\mathbf{X\\beta} + \\mathbf{Z\\gamma}$\n",
    "\n",
    "* $\\mathbf{\\mu} \\in \\mathcal{R}^{N \\times 1}, \\space \\mathbf{X} \\in \\mathcal{R}^{N \\times (P+1)}, \\space \\mathbf{\\beta} \\in \\mathcal{R}^{(P+1) \\times 1}$\n",
    "\n",
    "* $\\mathbf{Z} = diag \\left( \\mathbf{Z}_1, ..., \\mathbf{Z}_J \\right), \\space \\mathbf{Z}_j \\in \\mathcal{R}^{n_j \\times (P+1)}, \\space \\mathbf{\\gamma} \\in \\mathcal{R}^{(J \\times (P+1)) \\times 1}$\n",
    "\n",
    "* $N = \\sum\\limits^{J}_{j=1} n_j \\space$ (sum of the sizes of J groups)\n",
    "\n",
    "$\\mathbf{\\gamma}$ is the 'stacking' of $J$ independent samples from the distribution below:\n",
    "\n",
    "$\\begin{bmatrix} \\gamma_{j0} \\\\ \\vdots \\\\ \\gamma_{jP} \\end{bmatrix} \\sim \\mathcal{N} \\left( \\mathbf{0}, \\mathbf{\\Sigma} \\right), \\hspace{2mm} \\mathbf{\\Sigma} \\in \\mathcal{R}^{(P+1) \\times (P+1)}$ "
   ]
  },
  {
   "cell_type": "markdown",
   "id": "ba7f1f66",
   "metadata": {},
   "source": [
    "## Restricted Maximum Likelihood"
   ]
  }
 ],
 "metadata": {
  "kernelspec": {
   "display_name": "Python 3 (ipykernel)",
   "language": "python",
   "name": "python3"
  },
  "language_info": {
   "codemirror_mode": {
    "name": "ipython",
    "version": 3
   },
   "file_extension": ".py",
   "mimetype": "text/x-python",
   "name": "python",
   "nbconvert_exporter": "python",
   "pygments_lexer": "ipython3",
   "version": "3.10.9"
  }
 },
 "nbformat": 4,
 "nbformat_minor": 5
}

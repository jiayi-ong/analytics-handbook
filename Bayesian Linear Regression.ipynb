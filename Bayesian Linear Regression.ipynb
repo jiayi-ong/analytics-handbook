{
 "cells": [
  {
   "cell_type": "markdown",
   "id": "155a795c",
   "metadata": {},
   "source": [
    "## Bayes' Rule"
   ]
  },
  {
   "cell_type": "markdown",
   "id": "70daa41e",
   "metadata": {},
   "source": [
    "Posterior probability of weight vector $\\mathbf{w}$ given training data $\\mathcal{D}$:\n",
    "\n",
    "$p(\\mathbf{w} \\space | \\space \\mathcal{D}) = \\frac{p(\\mathcal{D} \\space | \\space \\mathbf{w}) p(\\mathbf{w})}{p(\\mathcal{D})} \\propto p(\\mathcal{D} \\space | \\space \\mathbf{w}) p(\\mathbf{w})$\n",
    "\n",
    "* $p(\\mathcal{D} \\space | \\space \\mathbf{w}) $ : Probability of observed data given weight vector\n",
    "\n",
    "* $p(\\mathbf{w}) $ : Prior probability of weight vector\n",
    "\n",
    "* $p(\\mathcal{D}) = \\int p(\\mathcal{D} \\space | \\space \\mathbf{w}) p(\\mathbf{w}) \\space d\\mathbf{w}$"
   ]
  },
  {
   "cell_type": "markdown",
   "id": "0b89c110",
   "metadata": {},
   "source": [
    "## Maximum A-posteriori Probability (MAP) Estimation"
   ]
  },
  {
   "cell_type": "markdown",
   "id": "3063a031",
   "metadata": {},
   "source": [
    "Find weights that maximize the posterior:\n",
    "\n",
    "$\\mathbf{w}^{MAP} = \\underset{\\mathbf{w}}{\\text{argmax}} \\space p(\\mathcal{D} \\space | \\space \\mathbf{w}) p(\\mathbf{w})$"
   ]
  },
  {
   "cell_type": "markdown",
   "id": "0249acf5",
   "metadata": {},
   "source": [
    "## "
   ]
  }
 ],
 "metadata": {
  "kernelspec": {
   "display_name": "Python 3 (ipykernel)",
   "language": "python",
   "name": "python3"
  },
  "language_info": {
   "codemirror_mode": {
    "name": "ipython",
    "version": 3
   },
   "file_extension": ".py",
   "mimetype": "text/x-python",
   "name": "python",
   "nbconvert_exporter": "python",
   "pygments_lexer": "ipython3",
   "version": "3.10.9"
  }
 },
 "nbformat": 4,
 "nbformat_minor": 5
}

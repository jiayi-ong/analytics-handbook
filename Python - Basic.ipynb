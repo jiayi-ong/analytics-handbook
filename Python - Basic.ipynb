{
 "cells": [
  {
   "cell_type": "markdown",
   "id": "d26d7a60",
   "metadata": {
    "id": "d26d7a60"
   },
   "source": [
    "## Immutability\n",
    "\n",
    "Immutable data types: bool, int, float, tuple, str"
   ]
  },
  {
   "cell_type": "code",
   "execution_count": 2,
   "id": "399c3e6c",
   "metadata": {
    "id": "399c3e6c",
    "outputId": "ae10fa51-e65b-46fa-9333-a20a4412c49c"
   },
   "outputs": [
    {
     "data": {
      "text/plain": [
       "True"
      ]
     },
     "execution_count": 2,
     "metadata": {},
     "output_type": "execute_result"
    }
   ],
   "source": [
    "x = 10 # point x at 10\n",
    "y = x # assign y with what x 'points at'\n",
    "id(x) == id(y)"
   ]
  },
  {
   "cell_type": "code",
   "execution_count": 3,
   "id": "bb711e02",
   "metadata": {
    "id": "bb711e02",
    "outputId": "a783463d-c9d2-43fb-a7a8-5ff02a9e49f2"
   },
   "outputs": [
    {
     "data": {
      "text/plain": [
       "True"
      ]
     },
     "execution_count": 3,
     "metadata": {},
     "output_type": "execute_result"
    }
   ],
   "source": [
    "id(x) == id(10)"
   ]
  },
  {
   "cell_type": "code",
   "execution_count": 4,
   "id": "0410549d",
   "metadata": {
    "id": "0410549d",
    "outputId": "b5178535-f9c5-49b9-f481-a01eaba8ae01"
   },
   "outputs": [
    {
     "name": "stdout",
     "output_type": "stream",
     "text": [
      "x = 11, y = 10\n",
      "x: 2263303979568, y = 2263303979536\n"
     ]
    }
   ],
   "source": [
    "# integers are immutable, adding points x to another integer\n",
    "x += 1\n",
    "print(f\"x = {x}, y = {y}\")\n",
    "print(f\"x: {id(x)}, y = {id(y)}\")"
   ]
  },
  {
   "cell_type": "markdown",
   "id": "40e3086a",
   "metadata": {
    "id": "40e3086a"
   },
   "source": [
    "## Mutability\n",
    "\n",
    "Mutable data types: list, set, dict"
   ]
  },
  {
   "cell_type": "code",
   "execution_count": 5,
   "id": "77f306e9",
   "metadata": {
    "id": "77f306e9",
    "outputId": "3bf241e7-433a-4d05-d280-c43ed2f41bf6"
   },
   "outputs": [
    {
     "data": {
      "text/plain": [
       "True"
      ]
     },
     "execution_count": 5,
     "metadata": {},
     "output_type": "execute_result"
    }
   ],
   "source": [
    "x = [1,2,3,4]\n",
    "y = x\n",
    "id(x) == id(y)"
   ]
  },
  {
   "cell_type": "code",
   "execution_count": 6,
   "id": "9285aad3",
   "metadata": {
    "id": "9285aad3",
    "outputId": "490ba09e-64c8-4f83-976a-a44f22ffa3a4"
   },
   "outputs": [
    {
     "data": {
      "text/plain": [
       "False"
      ]
     },
     "execution_count": 6,
     "metadata": {},
     "output_type": "execute_result"
    }
   ],
   "source": [
    "id(x) == id([1,2,3,4])"
   ]
  },
  {
   "cell_type": "code",
   "execution_count": 7,
   "id": "9f09ad09",
   "metadata": {},
   "outputs": [
    {
     "name": "stdout",
     "output_type": "stream",
     "text": [
      "2263388028672\n",
      "2263388028672\n"
     ]
    }
   ],
   "source": [
    "# lists are mutable, changing an element of a list\n",
    "# does not necessitate the creation of a new list\n",
    "print(id(x))\n",
    "x[0] = 10\n",
    "print(id(x))"
   ]
  },
  {
   "cell_type": "code",
   "execution_count": 8,
   "id": "62272436",
   "metadata": {
    "id": "62272436",
    "outputId": "22cad226-087e-4679-deaa-616cd6261a71",
    "scrolled": true
   },
   "outputs": [
    {
     "data": {
      "text/plain": [
       "[2, 3, 4]"
      ]
     },
     "execution_count": 8,
     "metadata": {},
     "output_type": "execute_result"
    }
   ],
   "source": [
    "# x and y points to the same list\n",
    "# popping x's reference pops y's reference too\n",
    "x.pop(0)\n",
    "y"
   ]
  },
  {
   "cell_type": "markdown",
   "id": "ec08fd8e",
   "metadata": {
    "id": "ec08fd8e"
   },
   "source": [
    "### Range"
   ]
  },
  {
   "cell_type": "code",
   "execution_count": null,
   "id": "178ac570",
   "metadata": {
    "id": "178ac570",
    "outputId": "be84bd4f-ff75-410e-f907-fb3375940d69"
   },
   "outputs": [
    {
     "data": {
      "text/plain": [
       "[10, 15, 20, 25, 30, 35, 40, 45]"
      ]
     },
     "execution_count": 284,
     "metadata": {},
     "output_type": "execute_result"
    }
   ],
   "source": [
    "list(range(10, 50, 5))"
   ]
  },
  {
   "cell_type": "markdown",
   "id": "09a085c0",
   "metadata": {
    "id": "09a085c0"
   },
   "source": [
    "### Enumerate"
   ]
  },
  {
   "cell_type": "code",
   "execution_count": null,
   "id": "f82b8186",
   "metadata": {
    "id": "f82b8186",
    "outputId": "9853d29b-96d8-4b8a-d653-32d9e7a78a1a"
   },
   "outputs": [
    {
     "name": "stdout",
     "output_type": "stream",
     "text": [
      "<class 'tuple'> (0, 'A')\n",
      "<class 'tuple'> (1, 'B')\n",
      "<class 'tuple'> (2, 'C')\n"
     ]
    }
   ],
   "source": [
    "for i in enumerate(['A', 'B', 'C']):\n",
    "    print(type(i), i, sep = ' ')"
   ]
  },
  {
   "cell_type": "markdown",
   "id": "1961a815",
   "metadata": {
    "id": "1961a815"
   },
   "source": [
    "### Zip"
   ]
  },
  {
   "cell_type": "code",
   "execution_count": null,
   "id": "831be3f9",
   "metadata": {
    "id": "831be3f9",
    "outputId": "83c1228f-52d8-4401-d9f8-6239467c0262"
   },
   "outputs": [
    {
     "name": "stdout",
     "output_type": "stream",
     "text": [
      "<class 'tuple'> ('v', 'A', 0)\n",
      "<class 'tuple'> ('w', 'B', 1)\n",
      "<class 'tuple'> ('x', 'C', 2)\n"
     ]
    }
   ],
   "source": [
    "# zipping iterables of unequal lengths truncates to the smallest length iterable\n",
    "for i in zip(['v', 'w', 'x', 'y', 'z'], ['A', 'B', 'C'], range(100)):\n",
    "    print(type(i), i, sep = ' ')"
   ]
  },
  {
   "cell_type": "markdown",
   "id": "98a06de7",
   "metadata": {
    "id": "98a06de7"
   },
   "source": [
    "## Multiple Assignment"
   ]
  },
  {
   "cell_type": "code",
   "execution_count": null,
   "id": "45cc7257",
   "metadata": {
    "id": "45cc7257",
    "outputId": "85f17ea5-6aae-4d61-827f-fca40e9c3b5d"
   },
   "outputs": [
    {
     "name": "stdout",
     "output_type": "stream",
     "text": [
      "a = 1, b = 2, c = 3\n"
     ]
    }
   ],
   "source": [
    "my_tuple = (1, 2, 3)\n",
    "a, b, c = my_tuple\n",
    "\n",
    "print(f\"a = {a}, b = {b}, c = {c}\")"
   ]
  },
  {
   "cell_type": "code",
   "execution_count": null,
   "id": "8e21be20",
   "metadata": {
    "id": "8e21be20",
    "outputId": "d7dbb3ab-1d1f-4deb-c22f-ac8eddb977f8"
   },
   "outputs": [
    {
     "name": "stdout",
     "output_type": "stream",
     "text": [
      "a = 1, b = 2, c = 3\n"
     ]
    }
   ],
   "source": [
    "a, b, c = 1, 2, 3\n",
    "\n",
    "print(f\"a = {a}, b = {b}, c = {c}\")"
   ]
  },
  {
   "cell_type": "code",
   "execution_count": null,
   "id": "ac903ecb",
   "metadata": {
    "id": "ac903ecb",
    "outputId": "c2314555-591a-48cb-c2a9-b4d9cd154fd9"
   },
   "outputs": [
    {
     "name": "stdout",
     "output_type": "stream",
     "text": [
      "True\n"
     ]
    }
   ],
   "source": [
    "a = b = c = 'string'\n",
    "\n",
    "print(a == b == c == 'string')"
   ]
  },
  {
   "cell_type": "markdown",
   "id": "b4e670af",
   "metadata": {
    "id": "b4e670af"
   },
   "source": [
    "## Asterisk Prefix"
   ]
  },
  {
   "cell_type": "code",
   "execution_count": null,
   "id": "d9b604e6",
   "metadata": {
    "id": "d9b604e6",
    "outputId": "95678545-6e2a-4602-ccb1-6b0544e20afd"
   },
   "outputs": [
    {
     "name": "stdout",
     "output_type": "stream",
     "text": [
      "a = [100, 200, 300], b = 400\n"
     ]
    }
   ],
   "source": [
    "*a, b = 100, 200, 300, 400\n",
    "\n",
    "print(f\"a = {a}, b = {b}\")"
   ]
  },
  {
   "cell_type": "code",
   "execution_count": null,
   "id": "7c61c279",
   "metadata": {
    "id": "7c61c279",
    "outputId": "0fbb02fa-5b10-4dfc-a918-9a99082cd810"
   },
   "outputs": [
    {
     "name": "stdout",
     "output_type": "stream",
     "text": [
      "a = 100, b = [200, 300, 400]\n"
     ]
    }
   ],
   "source": [
    "a, *b = [100, 200, 300, 400]\n",
    "\n",
    "print(f\"a = {a}, b = {b}\")"
   ]
  },
  {
   "cell_type": "code",
   "execution_count": null,
   "id": "5bb49a6f",
   "metadata": {
    "id": "5bb49a6f",
    "outputId": "56542824-0d02-4eb6-e2e1-dd09625a3b7a"
   },
   "outputs": [
    {
     "name": "stdout",
     "output_type": "stream",
     "text": [
      "bat cat dog emu fox\n"
     ]
    }
   ],
   "source": [
    "my_list = ['bat', 'cat', 'dog', 'emu', 'fox']\n",
    "\n",
    "print(*my_list) # passes all items in my_list into print() as separate arguments"
   ]
  },
  {
   "cell_type": "code",
   "execution_count": null,
   "id": "a8018314",
   "metadata": {
    "id": "a8018314",
    "outputId": "a4872a20-455b-42ee-8020-34ba90ff1c12"
   },
   "outputs": [
    {
     "name": "stdout",
     "output_type": "stream",
     "text": [
      "[[1, 4, 7], [2, 5, 8], [3, 6, 9]]\n"
     ]
    }
   ],
   "source": [
    "my_list = [[1, 2, 3], [4, 5, 6], [7, 8, 9]]\n",
    "\n",
    "print([list(row) for row in zip(*my_list)]) # transpose of the matrix"
   ]
  },
  {
   "cell_type": "code",
   "execution_count": null,
   "id": "dcc85014",
   "metadata": {
    "id": "dcc85014",
    "outputId": "bdd26ea1-4ac5-484e-e01b-e050fe4de181"
   },
   "outputs": [
    {
     "name": "stdout",
     "output_type": "stream",
     "text": [
      "True\n"
     ]
    }
   ],
   "source": [
    "my_list = list('Abcdefg')\n",
    "\n",
    "print([*my_list[1:], my_list[0]] == my_list[1:] + [my_list[0]])"
   ]
  },
  {
   "cell_type": "code",
   "execution_count": null,
   "id": "6bd80318",
   "metadata": {
    "id": "6bd80318",
    "outputId": "06c0f00d-2e0b-4e2c-e871-a20ffab7a9d7"
   },
   "outputs": [
    {
     "name": "stdout",
     "output_type": "stream",
     "text": [
      "On 15 January 2020, Frederick passed\n"
     ]
    }
   ],
   "source": [
    "# unpacks using keywords\n",
    "# keywords must be unique\n",
    "dct1 = {'month': 'January', 'day': 15, 'year': 2020}\n",
    "dct2 = {'status': 'passed', 'name': 'Frederick'}\n",
    "\n",
    "print(\"On {day} {month} {year}, {name} {status}\".format(**dct1, **dct2))"
   ]
  },
  {
   "cell_type": "code",
   "execution_count": null,
   "id": "d6453013",
   "metadata": {
    "id": "d6453013",
    "outputId": "ceba7104-ac73-4d91-ac2f-9149299cb48e"
   },
   "outputs": [
    {
     "data": {
      "text/plain": [
       "{'A': 10, 'B': 20, 'C': 40, 'D': 50}"
      ]
     },
     "execution_count": 63,
     "metadata": {},
     "output_type": "execute_result"
    }
   ],
   "source": [
    "dct1 = {'A': 10, 'B': 20, 'C': 30}\n",
    "dct2 = {'C': 40, 'D': 50}\n",
    "\n",
    "{**dct1, **dct2} # unpacking into one dictionary, replacing duplicate keys"
   ]
  },
  {
   "cell_type": "markdown",
   "id": "2f3eecc4",
   "metadata": {
    "id": "2f3eecc4"
   },
   "source": [
    "## Asterisk Prefix in Functions: args / kwargs"
   ]
  },
  {
   "cell_type": "markdown",
   "id": "62108722-0f54-4ac2-a562-aa8b1cbc4918",
   "metadata": {
    "id": "2e5d014f"
   },
   "source": [
    "Within function parameter definition:\n",
    "\n",
    "default values can be specified anywhere.\n",
    "\n",
    "\\*args can be specified anywhere.\n",
    "\n",
    "\\**kwargs must be at the end."
   ]
  },
  {
   "cell_type": "code",
   "execution_count": null,
   "id": "30ab7737",
   "metadata": {
    "id": "30ab7737",
    "outputId": "46787cc6-a24f-4bf7-c902-3c6c36902c2f"
   },
   "outputs": [
    {
     "name": "stdout",
     "output_type": "stream",
     "text": [
      "a 1\n",
      "b 2\n",
      "c 3\n"
     ]
    }
   ],
   "source": [
    "def test_3(**kwargs):\n",
    "    for key, value in kwargs.items():\n",
    "        print(key, kwargs.get(key))\n",
    "\n",
    "test_3(a=1, b=2, c=3)"
   ]
  },
  {
   "cell_type": "code",
   "execution_count": null,
   "id": "2b30dd5f",
   "metadata": {
    "id": "2b30dd5f"
   },
   "outputs": [],
   "source": [
    "def func(a, b=\"default_b\", *args, c, d=\"default_d\", **kwargs):\n",
    "    \n",
    "    print(\"a =\", a)\n",
    "    print(\"b =\", b)\n",
    "    \n",
    "    for i in args:\n",
    "        print(i)\n",
    "        \n",
    "    print(\"c =\", c)\n",
    "    print(\"d =\", d)\n",
    "    \n",
    "    for i,j in kwargs.items():\n",
    "        print(i,j)\n",
    "        \n",
    "func(1,2,3,4,5,6, c=7, e=8, f=9, g=10)"
   ]
  },
  {
   "cell_type": "markdown",
   "id": "936bc37e",
   "metadata": {
    "id": "936bc37e"
   },
   "source": [
    "## Sets"
   ]
  },
  {
   "cell_type": "code",
   "execution_count": null,
   "id": "ed60496d",
   "metadata": {
    "id": "ed60496d",
    "outputId": "dd7d377f-c7aa-42fe-8135-3698502b5781"
   },
   "outputs": [
    {
     "data": {
      "text/plain": [
       "{(1, 2, 3), 1.0, 'Hello'}"
      ]
     },
     "execution_count": 125,
     "metadata": {},
     "output_type": "execute_result"
    }
   ],
   "source": [
    "{1.0, \"Hello\", (1, 2, 3)} # mixed set, but cannot contain mutables e.g. lists"
   ]
  },
  {
   "cell_type": "code",
   "execution_count": null,
   "id": "4dc9ab9a",
   "metadata": {
    "id": "4dc9ab9a",
    "outputId": "db56a909-5973-4ef4-d26a-2f4242d2e89f"
   },
   "outputs": [
    {
     "data": {
      "text/plain": [
       "7"
      ]
     },
     "execution_count": 148,
     "metadata": {},
     "output_type": "execute_result"
    }
   ],
   "source": [
    "len(set('abcdefg'))"
   ]
  },
  {
   "cell_type": "code",
   "execution_count": null,
   "id": "af861137",
   "metadata": {
    "id": "af861137",
    "outputId": "d4b8f75a-38b6-4b10-cc78-e981a687af96"
   },
   "outputs": [
    {
     "data": {
      "text/plain": [
       "{1, 2, 3, 4}"
      ]
     },
     "execution_count": 126,
     "metadata": {},
     "output_type": "execute_result"
    }
   ],
   "source": [
    "set([1, 2, 3, 4]) # input an iterable"
   ]
  },
  {
   "cell_type": "code",
   "execution_count": null,
   "id": "f958afc4",
   "metadata": {
    "id": "f958afc4",
    "outputId": "cb2d150d-cba9-43c6-8e9b-7a321ccaf1a1"
   },
   "outputs": [
    {
     "data": {
      "text/plain": [
       "True"
      ]
     },
     "execution_count": 93,
     "metadata": {},
     "output_type": "execute_result"
    }
   ],
   "source": [
    "set('ddddcccbba') == {'d', 'a', 'b', 'c'} # sets are unordered"
   ]
  },
  {
   "cell_type": "code",
   "execution_count": null,
   "id": "41cdaa42",
   "metadata": {
    "id": "41cdaa42",
    "outputId": "1df14372-eb90-456e-8e4a-abe79ab972f8"
   },
   "outputs": [
    {
     "data": {
      "text/plain": [
       "\"{'3', '5', '4', '1', '2'}\""
      ]
     },
     "execution_count": 119,
     "metadata": {},
     "output_type": "execute_result"
    }
   ],
   "source": [
    "str(set('12345')) # printing or converting a set to string has no order"
   ]
  },
  {
   "cell_type": "code",
   "execution_count": null,
   "id": "e38611ca",
   "metadata": {
    "id": "e38611ca",
    "outputId": "f8970d9c-90bf-48ff-a6f0-d5af590b9182"
   },
   "outputs": [
    {
     "data": {
      "text/plain": [
       "True"
      ]
     },
     "execution_count": 139,
     "metadata": {},
     "output_type": "execute_result"
    }
   ],
   "source": [
    "my_set = {1, 2, 3}\n",
    "1 in my_set"
   ]
  },
  {
   "cell_type": "code",
   "execution_count": null,
   "id": "e287f84e",
   "metadata": {
    "id": "e287f84e",
    "outputId": "0e1686fc-966f-4da1-8f8e-001e37fdf12e"
   },
   "outputs": [
    {
     "data": {
      "text/plain": [
       "{2, 3, 4, 'a', 'b', 'c'}"
      ]
     },
     "execution_count": 140,
     "metadata": {},
     "output_type": "execute_result"
    }
   ],
   "source": [
    "my_set.add(4) # add item\n",
    "my_set.remove(1) # remove item\n",
    "my_set.discard(1000) # discarding item not in set will not return error\n",
    "my_set.update('abc') # add multiple items\n",
    "my_set"
   ]
  },
  {
   "cell_type": "code",
   "execution_count": null,
   "id": "75a0c18e",
   "metadata": {
    "id": "75a0c18e",
    "outputId": "338897de-5a65-4ecd-e197-4dcc700be3e5"
   },
   "outputs": [
    {
     "data": {
      "text/plain": [
       "'b'"
      ]
     },
     "execution_count": 154,
     "metadata": {},
     "output_type": "execute_result"
    }
   ],
   "source": [
    "my_set = set('abcdefg')\n",
    "my_set.pop() # randomly pops an item"
   ]
  },
  {
   "cell_type": "code",
   "execution_count": null,
   "id": "874044ee",
   "metadata": {
    "id": "874044ee",
    "outputId": "bc5dbcd7-1c77-41e2-c123-a63432cb8d8b"
   },
   "outputs": [
    {
     "name": "stdout",
     "output_type": "stream",
     "text": [
      "{'b', 'a', 'f', 'c', 'g', 'e', 'd'}\n",
      "{'a', 'f', 'c', 'g', 'e', 'd'}\n",
      "{'f', 'c', 'g', 'e', 'd'}\n",
      "{'c', 'g', 'e', 'd'}\n",
      "{'g', 'e', 'd'}\n",
      "{'e', 'd'}\n",
      "{'d'}\n"
     ]
    }
   ],
   "source": [
    "my_set = set('abcdefg')\n",
    "\n",
    "while len(my_set) != 0:\n",
    "    print(my_set)\n",
    "    my_set.pop()"
   ]
  },
  {
   "cell_type": "markdown",
   "id": "e063807c",
   "metadata": {
    "id": "e063807c"
   },
   "source": [
    "## Set Operations"
   ]
  },
  {
   "cell_type": "code",
   "execution_count": null,
   "id": "2acaf410",
   "metadata": {
    "id": "2acaf410",
    "outputId": "c5d0dde8-1827-4993-b5d4-0a3de0deeea7"
   },
   "outputs": [
    {
     "data": {
      "text/plain": [
       "{'1', '2', '3', '4', '5', '6', '7', '8'}"
      ]
     },
     "execution_count": 155,
     "metadata": {},
     "output_type": "execute_result"
    }
   ],
   "source": [
    "A = set('12345')\n",
    "B = set('45678')\n",
    "A.union(B)"
   ]
  },
  {
   "cell_type": "code",
   "execution_count": null,
   "id": "86bd84dd",
   "metadata": {
    "id": "86bd84dd",
    "outputId": "9a5c6971-6e77-4786-a57a-d5c1cb72ba07"
   },
   "outputs": [
    {
     "data": {
      "text/plain": [
       "True"
      ]
     },
     "execution_count": 158,
     "metadata": {},
     "output_type": "execute_result"
    }
   ],
   "source": [
    "A & B == A.intersection(B)"
   ]
  },
  {
   "cell_type": "code",
   "execution_count": null,
   "id": "9b0f1f29",
   "metadata": {
    "id": "9b0f1f29",
    "outputId": "aa41b261-bde3-42c4-f8af-7cd9782378fb"
   },
   "outputs": [
    {
     "data": {
      "text/plain": [
       "True"
      ]
     },
     "execution_count": 160,
     "metadata": {},
     "output_type": "execute_result"
    }
   ],
   "source": [
    "A - B == A.difference(B)"
   ]
  },
  {
   "cell_type": "code",
   "execution_count": null,
   "id": "2e627f02",
   "metadata": {
    "id": "2e627f02",
    "outputId": "8c180896-8993-45ac-bd89-32b31bbc703a"
   },
   "outputs": [
    {
     "data": {
      "text/plain": [
       "True"
      ]
     },
     "execution_count": 161,
     "metadata": {},
     "output_type": "execute_result"
    }
   ],
   "source": [
    "A ^ B == A.symmetric_difference(B)"
   ]
  },
  {
   "cell_type": "code",
   "execution_count": null,
   "id": "3c6343da",
   "metadata": {
    "id": "3c6343da",
    "outputId": "694285a4-4d42-4ff7-d306-5aa306875e8f"
   },
   "outputs": [
    {
     "data": {
      "text/plain": [
       "False"
      ]
     },
     "execution_count": 162,
     "metadata": {},
     "output_type": "execute_result"
    }
   ],
   "source": [
    "# other set operations\n",
    "A.union(B)\n",
    "A.isdisjoint(B)\n",
    "A.issubset(B)\n",
    "A.issuperset(B),\n",
    "A.difference_update(B)\n",
    "A.intersection_update(B)\n",
    "A.symmetric_difference_update(B)"
   ]
  },
  {
   "cell_type": "markdown",
   "id": "13c9a2de",
   "metadata": {
    "id": "13c9a2de"
   },
   "source": [
    "## List"
   ]
  },
  {
   "cell_type": "code",
   "execution_count": null,
   "id": "5e48610b",
   "metadata": {
    "id": "5e48610b",
    "outputId": "f435b559-e274-4c77-95c2-99da2bf7439f"
   },
   "outputs": [
    {
     "data": {
      "text/plain": [
       "['A', 'C', 'D', 'G', 'H', 'I', 'X', 'Y']"
      ]
     },
     "execution_count": 172,
     "metadata": {},
     "output_type": "execute_result"
    }
   ],
   "source": [
    "lst = [\"A\", \"B\", \"C\", \"D\", \"E\"]\n",
    "lst.pop(4)\n",
    "lst.remove(\"B\")\n",
    "lst.append(\"X\")\n",
    "lst.insert(2, \"Y\")\n",
    "lst += [\"G\", \"H\", \"I\"]\n",
    "lst.sort(reverse=False) # can only sort homogeneous list (e.g. all string)\n",
    "lst"
   ]
  },
  {
   "cell_type": "code",
   "execution_count": null,
   "id": "a8a4185f",
   "metadata": {
    "id": "a8a4185f"
   },
   "outputs": [],
   "source": [
    "lst.index('H')"
   ]
  },
  {
   "cell_type": "code",
   "execution_count": null,
   "id": "ab6ecac6",
   "metadata": {
    "id": "ab6ecac6"
   },
   "outputs": [],
   "source": [
    "[1,2,3,4,5][3::2] # every second item starting from index 3"
   ]
  },
  {
   "cell_type": "code",
   "execution_count": null,
   "id": "9b00c8fc",
   "metadata": {},
   "outputs": [],
   "source": [
    "[1,2,3,4,5][::-1] # reverse order"
   ]
  },
  {
   "cell_type": "code",
   "execution_count": null,
   "id": "6d12218d",
   "metadata": {
    "id": "6d12218d",
    "outputId": "54345fea-1dd0-457d-ba6e-6b503bbdd93b"
   },
   "outputs": [
    {
     "data": {
      "text/plain": [
       "['a', 'n', 'y', '_', 'i', 't', 'e', 'r', 'a', 'b', 'l', 'e']"
      ]
     },
     "execution_count": 12,
     "metadata": {},
     "output_type": "execute_result"
    }
   ],
   "source": [
    "list('any_iterable')"
   ]
  },
  {
   "cell_type": "code",
   "execution_count": null,
   "id": "6fab3aff",
   "metadata": {
    "id": "6fab3aff",
    "outputId": "36c64bd0-f865-4545-cd9e-f3189fd68a78"
   },
   "outputs": [
    {
     "data": {
      "text/plain": [
       "['E', 'D', 'C', 'B', 'A']"
      ]
     },
     "execution_count": 174,
     "metadata": {},
     "output_type": "execute_result"
    }
   ],
   "source": [
    "list(reversed([\"A\", \"B\", \"C\", \"D\", \"E\"]))"
   ]
  },
  {
   "cell_type": "code",
   "execution_count": 10,
   "id": "0624fe37",
   "metadata": {},
   "outputs": [
    {
     "name": "stdout",
     "output_type": "stream",
     "text": [
      "[1, 2, 3, 1, 2, 3, 1, 2, 3, 1, 2, 3, 1, 2, 3]\n",
      "[10, 2, 3, 1, 2, 3, 1, 2, 3, 1, 2, 3, 1, 2, 3]\n"
     ]
    }
   ],
   "source": [
    "# list multiplication: extends the list with copies of itself\n",
    "lst = [1,2,3]*5\n",
    "print(lst)\n",
    "lst[0] = 10\n",
    "print(lst)"
   ]
  },
  {
   "cell_type": "code",
   "execution_count": 13,
   "id": "ca3cfc83",
   "metadata": {},
   "outputs": [
    {
     "name": "stdout",
     "output_type": "stream",
     "text": [
      "[[1, [2, 3]], [1, [2, 3]], [1, [2, 3]], [1, [2, 3]], [1, [2, 3]]]\n",
      "[[10, [20, 3]], [10, [20, 3]], [10, [20, 3]], [10, [20, 3]], [10, [20, 3]]]\n"
     ]
    }
   ],
   "source": [
    "# nested-list multiplication\n",
    "# DOES NOT create copies of nested lists\n",
    "lst = [[1,[2,3]]]*5\n",
    "print(lst)\n",
    "lst[0][0] = 10\n",
    "lst[0][1][0] = 20\n",
    "print(lst)"
   ]
  },
  {
   "cell_type": "markdown",
   "id": "57b68b3e",
   "metadata": {
    "id": "57b68b3e"
   },
   "source": [
    "## Dictionary"
   ]
  },
  {
   "cell_type": "code",
   "execution_count": null,
   "id": "8df37c2b",
   "metadata": {
    "id": "8df37c2b",
    "outputId": "8b94bad0-5639-4405-aa1d-637ced8f0f46"
   },
   "outputs": [
    {
     "name": "stdout",
     "output_type": "stream",
     "text": [
      "dict_keys(['a', 'b', 'c', 'd'])\n",
      "dict_items([('a', 1), ('b', 2), ('c', 3), ('d', 4)])\n",
      "dict_values([1, 2, 3, 4])\n"
     ]
    }
   ],
   "source": [
    "dct = {'a': 1, 'b': 2, 'c': 3, 'd': 4}\n",
    "a = dct.keys()\n",
    "b = dct.items()\n",
    "c = dct.values()\n",
    "print(a, b, c, sep = '\\n')"
   ]
  },
  {
   "cell_type": "code",
   "execution_count": null,
   "id": "b8be9ced",
   "metadata": {
    "id": "b8be9ced",
    "outputId": "2ef26331-80e5-44d8-9c93-8ce26d1efd9b"
   },
   "outputs": [
    {
     "data": {
      "text/plain": [
       "True"
      ]
     },
     "execution_count": 2,
     "metadata": {},
     "output_type": "execute_result"
    }
   ],
   "source": [
    "# retrieving values with keys\n",
    "dct.get('b') == dct['b']"
   ]
  },
  {
   "cell_type": "code",
   "execution_count": null,
   "id": "4ead5421",
   "metadata": {
    "id": "4ead5421",
    "outputId": "4988495d-1cab-457a-bb31-35c61447055d"
   },
   "outputs": [
    {
     "data": {
      "text/plain": [
       "{5: 100, 4: 100, 1: 100, 2: 100, 3: 100}"
      ]
     },
     "execution_count": 3,
     "metadata": {},
     "output_type": "execute_result"
    }
   ],
   "source": [
    "# preserves order of the input iterable\n",
    "dict.fromkeys([5, 5, 4, 1, 2, 2, 3, 3, 3], 100)"
   ]
  },
  {
   "cell_type": "markdown",
   "id": "84c2cff7",
   "metadata": {
    "id": "84c2cff7"
   },
   "source": [
    "## List/Dictionary Comprehension"
   ]
  },
  {
   "cell_type": "code",
   "execution_count": null,
   "id": "5065b1db",
   "metadata": {
    "id": "5065b1db"
   },
   "outputs": [],
   "source": [
    "# list comprehension\n",
    "# left-most for is the outer-most\n",
    "[(i,j) for i in range(3) for j in range(2)]"
   ]
  },
  {
   "cell_type": "code",
   "execution_count": null,
   "id": "8ff5ca87",
   "metadata": {
    "id": "8ff5ca87",
    "outputId": "3bc179d8-8407-4583-e1ad-372c3fbf04af"
   },
   "outputs": [
    {
     "data": {
      "text/plain": [
       "[0, 2, 4, 6, 8, 10, 12, 14, 16, 18]"
      ]
     },
     "execution_count": 222,
     "metadata": {},
     "output_type": "execute_result"
    }
   ],
   "source": [
    "# list comprehension if-else\n",
    "[i if i % 2 == 0 else 0 for i in range(20)]\n",
    "[i for i in range(20) if i % 2 == 0]"
   ]
  },
  {
   "cell_type": "code",
   "execution_count": null,
   "id": "cb79d005",
   "metadata": {
    "id": "cb79d005",
    "outputId": "22104f98-a649-458e-f993-1997d15a471a"
   },
   "outputs": [
    {
     "data": {
      "text/plain": [
       "{'key0': 0, 'key1': 1, 'key2': 2, 'key3': 3}"
      ]
     },
     "execution_count": 221,
     "metadata": {},
     "output_type": "execute_result"
    }
   ],
   "source": [
    "# dict comprehension\n",
    "{f\"key{i}\": i for i in range(4)}"
   ]
  },
  {
   "cell_type": "code",
   "execution_count": null,
   "id": "221bf840",
   "metadata": {
    "id": "221bf840",
    "outputId": "6b8c8d94-11ec-4349-c436-f9b87b512de2"
   },
   "outputs": [
    {
     "data": {
      "text/plain": [
       "{'a': 1, 'b': 2}"
      ]
     },
     "execution_count": 2,
     "metadata": {},
     "output_type": "execute_result"
    }
   ],
   "source": [
    "dict([('a', 1), ('b', 2)])"
   ]
  },
  {
   "cell_type": "markdown",
   "id": "4ab97312",
   "metadata": {
    "id": "4ab97312"
   },
   "source": [
    "### Sorted"
   ]
  },
  {
   "cell_type": "code",
   "execution_count": null,
   "id": "6e18f900",
   "metadata": {
    "id": "6e18f900",
    "outputId": "61b2d2ec-60b0-480d-f680-3a8895a9e588"
   },
   "outputs": [
    {
     "data": {
      "text/plain": [
       "[(4, 3), (1, 2), (3, 1)]"
      ]
     },
     "execution_count": 17,
     "metadata": {},
     "output_type": "execute_result"
    }
   ],
   "source": [
    "lst = [(1,2), (3,1), (4,3)]\n",
    "sorted(lst, key=lambda x: x[1], reverse=True)"
   ]
  },
  {
   "cell_type": "code",
   "execution_count": null,
   "id": "df3c4b4a",
   "metadata": {
    "id": "df3c4b4a",
    "outputId": "9b93eaa8-a10b-49cd-c931-bc59d43beec5",
    "scrolled": true
   },
   "outputs": [
    {
     "data": {
      "text/plain": [
       "[('d', 4), ('c', 3), ('b', 2), ('a', 1)]"
      ]
     },
     "execution_count": 223,
     "metadata": {},
     "output_type": "execute_result"
    }
   ],
   "source": [
    "dct = {'a': 1, 'b': 2, 'c': 3, 'd': 4}\n",
    "sorted(dct.items(), key=lambda kv: kv[1], reverse=True)"
   ]
  },
  {
   "cell_type": "code",
   "execution_count": null,
   "id": "a6606531",
   "metadata": {
    "id": "a6606531",
    "outputId": "04cac69e-426c-4a33-be62-4f8516e0361c"
   },
   "outputs": [
    {
     "data": {
      "text/plain": [
       "[(4, 'b'), (5, 'b'), (6, 'c'), (3, 'a'), (1, 'd'), (2, 'd')]"
      ]
     },
     "execution_count": 3,
     "metadata": {},
     "output_type": "execute_result"
    }
   ],
   "source": [
    "lst = [(1, 'd'), (2, 'd'), (3, 'a'), (4, 'b'), (5, 'b'), (6, 'c')]\n",
    "defined_order = {'a': 3, 'b': 1, 'c': 2, 'd': 4}\n",
    "\n",
    "[x for x in sorted(lst, key=lambda x: defined_order[x[1]])]"
   ]
  },
  {
   "cell_type": "markdown",
   "id": "32dbd08f",
   "metadata": {
    "id": "32dbd08f"
   },
   "source": [
    "### Lambda Function"
   ]
  },
  {
   "cell_type": "code",
   "execution_count": null,
   "id": "cf28d1ca",
   "metadata": {
    "id": "cf28d1ca"
   },
   "outputs": [],
   "source": [
    "# lambda function\n",
    "lambda_func = lambda x, y, z: x + y + z\n",
    "print(lambda_func(1, 2, 3))"
   ]
  },
  {
   "cell_type": "code",
   "execution_count": null,
   "id": "ac04afb8",
   "metadata": {
    "id": "ac04afb8",
    "outputId": "71d959ee-c841-4935-d925-5723c3780b57"
   },
   "outputs": [
    {
     "data": {
      "text/plain": [
       "30"
      ]
     },
     "execution_count": 225,
     "metadata": {},
     "output_type": "execute_result"
    }
   ],
   "source": [
    "def my_function(n):\n",
    "    return lambda x: x * n\n",
    "\n",
    "tripler = my_function(3)\n",
    "tripler(10)"
   ]
  },
  {
   "cell_type": "code",
   "execution_count": null,
   "id": "hI2W7pvKfFAZ",
   "metadata": {
    "id": "hI2W7pvKfFAZ"
   },
   "outputs": [],
   "source": [
    "lambda x: 1 if True else 0"
   ]
  },
  {
   "cell_type": "markdown",
   "id": "2310c60e",
   "metadata": {
    "id": "2310c60e"
   },
   "source": [
    "### Map"
   ]
  },
  {
   "cell_type": "code",
   "execution_count": null,
   "id": "4a3f23bf",
   "metadata": {
    "id": "4a3f23bf",
    "outputId": "25a54993-260d-4d75-d160-65da6616fc05"
   },
   "outputs": [
    {
     "data": {
      "text/plain": [
       "[10, 20, 30]"
      ]
     },
     "execution_count": 26,
     "metadata": {},
     "output_type": "execute_result"
    }
   ],
   "source": [
    "# apply function to all values in list\n",
    "m = map(lambda x: 10*x, [1,2,3])\n",
    "list(m)"
   ]
  },
  {
   "cell_type": "code",
   "execution_count": null,
   "id": "01ea41c3",
   "metadata": {
    "id": "01ea41c3",
    "outputId": "984f05d5-cc13-4112-c916-06ee74326628"
   },
   "outputs": [
    {
     "data": {
      "text/plain": [
       "[6, 15, 24]"
      ]
     },
     "execution_count": 2,
     "metadata": {},
     "output_type": "execute_result"
    }
   ],
   "source": [
    "m = map(lambda x: sum(x), [[1,2,3], [4,5,6], [7,8,9]])\n",
    "list(m)"
   ]
  },
  {
   "cell_type": "markdown",
   "id": "2759a884",
   "metadata": {
    "id": "2759a884"
   },
   "source": [
    "### Filter"
   ]
  },
  {
   "cell_type": "code",
   "execution_count": null,
   "id": "c4d6c754",
   "metadata": {
    "id": "c4d6c754",
    "outputId": "bf180ebf-dfa2-4ac1-e824-08d5192fd886"
   },
   "outputs": [
    {
     "data": {
      "text/plain": [
       "[0, 2, 4, 6, 8]"
      ]
     },
     "execution_count": 29,
     "metadata": {},
     "output_type": "execute_result"
    }
   ],
   "source": [
    "# apply function returning True/False, only returns values evaluating true\n",
    "f = filter(lambda x: x % 2 == 0, range(10))\n",
    "list(f)"
   ]
  },
  {
   "cell_type": "markdown",
   "id": "e95c787e",
   "metadata": {
    "id": "e95c787e"
   },
   "source": [
    "### If-else"
   ]
  },
  {
   "cell_type": "code",
   "execution_count": null,
   "id": "c7f55fb7",
   "metadata": {
    "id": "c7f55fb7"
   },
   "outputs": [],
   "source": [
    "# if-else statement within a function\n",
    "def ifelse(x, y):\n",
    "    print(f\"{x} > y\") if x > y else print(f\"{x} <= {y}\")\n",
    "\n",
    "ifelse(1,2)"
   ]
  },
  {
   "cell_type": "markdown",
   "id": "ee9a6cc3",
   "metadata": {
    "id": "ee9a6cc3"
   },
   "source": [
    "## General String Methods\n",
    "https://www.w3schools.com/python/python_ref_string.asp"
   ]
  },
  {
   "cell_type": "code",
   "execution_count": null,
   "id": "c4efa4ab",
   "metadata": {
    "id": "c4efa4ab",
    "outputId": "25df133b-ecd2-4b98-cea7-92fbb5b587ee"
   },
   "outputs": [
    {
     "name": "stdout",
     "output_type": "stream",
     "text": [
      "1-2-3-4-5&"
     ]
    }
   ],
   "source": [
    "print(1,2,3,4,5, sep='-', end='&')"
   ]
  },
  {
   "cell_type": "code",
   "execution_count": null,
   "id": "f89af507",
   "metadata": {
    "id": "f89af507",
    "outputId": "53a512c5-6952-4603-8126-12a905c0d526"
   },
   "outputs": [
    {
     "data": {
      "text/plain": [
       "\"hello, what's down\""
      ]
     },
     "execution_count": 200,
     "metadata": {},
     "output_type": "execute_result"
    }
   ],
   "source": [
    "\"hello, what's up\".replace(\"up\", \"down\")"
   ]
  },
  {
   "cell_type": "code",
   "execution_count": null,
   "id": "ab898bd8",
   "metadata": {
    "id": "ab898bd8",
    "outputId": "82e1372d-6fd1-40ab-a45b-f64dc544f7ef"
   },
   "outputs": [
    {
     "data": {
      "text/plain": [
       "['a', 'b', 'c', 'd', 'e']"
      ]
     },
     "execution_count": 201,
     "metadata": {},
     "output_type": "execute_result"
    }
   ],
   "source": [
    "\"a b c d e\".split(\" \")"
   ]
  },
  {
   "cell_type": "code",
   "execution_count": null,
   "id": "76e522af",
   "metadata": {
    "id": "76e522af",
    "outputId": "c4827e2d-8164-4b4b-d545-87c6accfd9d4"
   },
   "outputs": [
    {
     "data": {
      "text/plain": [
       "'a-b-c'"
      ]
     },
     "execution_count": 202,
     "metadata": {},
     "output_type": "execute_result"
    }
   ],
   "source": [
    "\"-\".join([\"a\", \"b\", \"c\"])"
   ]
  },
  {
   "cell_type": "code",
   "execution_count": null,
   "id": "0867a71e",
   "metadata": {
    "id": "0867a71e",
    "outputId": "deaed198-553c-4a59-bc04-8b6b76b635ef"
   },
   "outputs": [
    {
     "data": {
      "text/plain": [
       "'abcdef'"
      ]
     },
     "execution_count": 215,
     "metadata": {},
     "output_type": "execute_result"
    }
   ],
   "source": [
    "\"\\t\\n   abcdef  \\n\\t\\t   \".strip()"
   ]
  },
  {
   "cell_type": "code",
   "execution_count": null,
   "id": "6d9b098e",
   "metadata": {
    "id": "6d9b098e",
    "outputId": "be995c5a-5440-4c13-b81f-9e8f7429bd2e"
   },
   "outputs": [
    {
     "data": {
      "text/plain": [
       "'abc_def'"
      ]
     },
     "execution_count": 213,
     "metadata": {},
     "output_type": "execute_result"
    }
   ],
   "source": [
    "\"1234_\\.abc_def.$%5678\".strip(\"12345678%$.\\_\")"
   ]
  },
  {
   "cell_type": "code",
   "execution_count": null,
   "id": "919421e8",
   "metadata": {
    "id": "919421e8",
    "outputId": "cd39bb3e-0d1f-4114-fe9b-5c939c1f1575"
   },
   "outputs": [
    {
     "data": {
      "text/plain": [
       "'Hi Joe!'"
      ]
     },
     "execution_count": 280,
     "metadata": {},
     "output_type": "execute_result"
    }
   ],
   "source": [
    "txt = \"Hi Sam!\"\n",
    "x = \"mSa\"; y = \"eJo\"\n",
    "mytable = txt.maketrans(x, y)\n",
    "txt.translate(mytable)"
   ]
  },
  {
   "cell_type": "code",
   "execution_count": null,
   "id": "12bed90e",
   "metadata": {
    "id": "12bed90e"
   },
   "outputs": [],
   "source": [
    "str('100').isdigit()"
   ]
  },
  {
   "cell_type": "markdown",
   "id": "3509aed2",
   "metadata": {
    "id": "3509aed2"
   },
   "source": [
    "## Format String\n",
    "https://docs.python.org/3/library/string.html#formatstrings"
   ]
  },
  {
   "cell_type": "code",
   "execution_count": null,
   "id": "8fe7d2f9",
   "metadata": {
    "id": "8fe7d2f9",
    "outputId": "0c79a41d-506d-4fc2-9021-8e2444a8c080"
   },
   "outputs": [
    {
     "data": {
      "text/plain": [
       "'hello Regina, my name is James'"
      ]
     },
     "execution_count": 216,
     "metadata": {},
     "output_type": "execute_result"
    }
   ],
   "source": [
    "# format string 1\n",
    "x = \"Regina\"; y = \"James\"\n",
    "f\"hello {x}, my name is {y}\""
   ]
  },
  {
   "cell_type": "code",
   "execution_count": null,
   "id": "4b736857",
   "metadata": {
    "id": "4b736857"
   },
   "outputs": [],
   "source": [
    "# format string 2\n",
    "\"hello {x}, my name is {y}\".format(x=\"Regina\", y=\"James\")"
   ]
  },
  {
   "cell_type": "code",
   "execution_count": null,
   "id": "5a5399ad",
   "metadata": {
    "id": "5a5399ad",
    "outputId": "06ee177b-60c4-44a9-b5ed-a597ccce424e",
    "scrolled": true
   },
   "outputs": [
    {
     "data": {
      "text/plain": [
       "'insert: inserted text'"
      ]
     },
     "execution_count": 220,
     "metadata": {},
     "output_type": "execute_result"
    }
   ],
   "source": [
    "\"insert: %s %s %s\" % (\"text1\", \"text2\", \"text3\")"
   ]
  },
  {
   "cell_type": "code",
   "execution_count": null,
   "id": "7cde02d5",
   "metadata": {
    "id": "7cde02d5",
    "outputId": "66913843-6467-4565-f096-5864b9bc3638"
   },
   "outputs": [
    {
     "data": {
      "text/plain": [
       "'$4,500.21'"
      ]
     },
     "execution_count": 3,
     "metadata": {},
     "output_type": "execute_result"
    }
   ],
   "source": [
    "# convert to dollar format\n",
    "\"${:,.2f}\".format(4500.21)"
   ]
  },
  {
   "cell_type": "code",
   "execution_count": null,
   "id": "6nXt60nMfOrd",
   "metadata": {
    "id": "6nXt60nMfOrd"
   },
   "outputs": [],
   "source": [
    "# .zfill()"
   ]
  },
  {
   "cell_type": "markdown",
   "id": "13b8c807",
   "metadata": {
    "id": "13b8c807"
   },
   "source": [
    "## Files"
   ]
  },
  {
   "cell_type": "code",
   "execution_count": null,
   "id": "7ed1ac06",
   "metadata": {
    "id": "7ed1ac06"
   },
   "outputs": [],
   "source": [
    "with open(\"test.txt\", 'w', encoding = 'utf-8') as f:\n",
    "   f.write(\"my first file\\n\")\n",
    "   f.write(\"This file\\n\\n\")\n",
    "   f.write(\"contains three lines\\n\")"
   ]
  },
  {
   "cell_type": "code",
   "execution_count": null,
   "id": "988a5017",
   "metadata": {
    "id": "988a5017"
   },
   "outputs": [],
   "source": [
    "with open('test.txt', mode='r', encoding='utf-8') as f:\n",
    "    # operate on file, closes automatically"
   ]
  },
  {
   "cell_type": "code",
   "execution_count": null,
   "id": "e72dfd48",
   "metadata": {
    "id": "e72dfd48"
   },
   "outputs": [],
   "source": [
    "f = open('test.txt', mode='r', encoding='utf-8')"
   ]
  },
  {
   "cell_type": "code",
   "execution_count": null,
   "id": "89abfc5c",
   "metadata": {
    "id": "89abfc5c"
   },
   "outputs": [],
   "source": [
    "\"first two letters: {a}, current position: {b}, go to index 3, read 5 places from here: {d}\".format(a=f.read(2), b=f.tell(), c=f.seek(3), d=f.read(5))\n",
    "f.close()"
   ]
  },
  {
   "cell_type": "code",
   "execution_count": null,
   "id": "d87cdc22",
   "metadata": {
    "id": "d87cdc22",
    "outputId": "24edf559-14dc-42da-f98e-d607dfcaae9f"
   },
   "outputs": [
    {
     "name": "stdout",
     "output_type": "stream",
     "text": [
      "my first file\n",
      "EThis file\n",
      "E\n",
      "Econtains three lines\n",
      "E"
     ]
    }
   ],
   "source": [
    "for line in f:\n",
    "    print(line, end='E')\n",
    "f.close()"
   ]
  },
  {
   "cell_type": "code",
   "execution_count": null,
   "id": "5aa21fc8",
   "metadata": {
    "id": "5aa21fc8"
   },
   "outputs": [],
   "source": [
    "f.readline()"
   ]
  },
  {
   "cell_type": "markdown",
   "id": "bb33a893",
   "metadata": {
    "id": "bb33a893"
   },
   "source": [
    "## Functions / Loops"
   ]
  },
  {
   "cell_type": "markdown",
   "id": "dcddbe90",
   "metadata": {
    "id": "dcddbe90"
   },
   "source": [
    "### Flow control"
   ]
  },
  {
   "cell_type": "code",
   "execution_count": null,
   "id": "57c6b04d",
   "metadata": {
    "id": "57c6b04d",
    "outputId": "233e26b0-605a-4259-eadf-ea4bcb1f3852"
   },
   "outputs": [
    {
     "name": "stdout",
     "output_type": "stream",
     "text": [
      "pass to end of loop\n",
      "End of loop 0.\n",
      "pass to end of loop\n",
      "End of loop 1.\n",
      "pass to end of loop\n",
      "End of loop 2.\n",
      "continue to next loop without reaching end of loop.\n",
      "continue to next loop without reaching end of loop.\n",
      "continue to next loop without reaching end of loop.\n",
      "break from loop\n"
     ]
    }
   ],
   "source": [
    "for i in range(8):\n",
    "    if i <= 2:\n",
    "        print(\"pass to next statement\")\n",
    "        pass\n",
    "\n",
    "    if (i > 2) and (i < 6):\n",
    "        print(\"continue to next loop without reaching end of loop.\")\n",
    "        continue\n",
    "\n",
    "    if i == 6:\n",
    "        print(\"break from loop\")\n",
    "        break\n",
    "\n",
    "    print(f\"End of loop {i}.\")"
   ]
  },
  {
   "cell_type": "markdown",
   "id": "9c388c75",
   "metadata": {
    "id": "9c388c75"
   },
   "source": [
    "### Closure"
   ]
  },
  {
   "cell_type": "code",
   "execution_count": null,
   "id": "b8d827e7",
   "metadata": {
    "id": "b8d827e7",
    "outputId": "52cf9bf5-b626-4b69-d8ad-0ce1311aeb77"
   },
   "outputs": [
    {
     "name": "stdout",
     "output_type": "stream",
     "text": [
      "hello\n"
     ]
    }
   ],
   "source": [
    "def outer_function(text):\n",
    "    def inner_function():\n",
    "        print(text)\n",
    "    return inner_function\n",
    "\n",
    "instance_of_function = outer_function('hello')\n",
    "instance_of_function() # a nested function references a value in its enclosing scope."
   ]
  },
  {
   "cell_type": "code",
   "execution_count": null,
   "id": "568a902f",
   "metadata": {
    "id": "568a902f",
    "outputId": "ce2ccdb2-23bc-41c9-8b6e-87b8cfa4d005"
   },
   "outputs": [
    {
     "data": {
      "text/plain": [
       "10.0"
      ]
     },
     "execution_count": 16,
     "metadata": {},
     "output_type": "execute_result"
    }
   ],
   "source": [
    "def divisor(n):\n",
    "    def divide_x_by_n(x):\n",
    "        return x/n\n",
    "    return divide_x_by_n\n",
    "\n",
    "divide_by_10 = divisor(10)\n",
    "divide_by_10(100)"
   ]
  },
  {
   "cell_type": "markdown",
   "id": "4601b4e1",
   "metadata": {},
   "source": [
    "## Error Handling"
   ]
  },
  {
   "cell_type": "code",
   "execution_count": 14,
   "id": "93651025",
   "metadata": {},
   "outputs": [
    {
     "name": "stdout",
     "output_type": "stream",
     "text": [
      "division by zero\n",
      "END\n"
     ]
    }
   ],
   "source": [
    "try:\n",
    "    1 / 0\n",
    "except Exception as err:\n",
    "    print(err)\n",
    "finally:\n",
    "    print(\"END\")"
   ]
  },
  {
   "cell_type": "markdown",
   "id": "570e1b6f",
   "metadata": {
    "id": "570e1b6f"
   },
   "source": [
    "## Markdown"
   ]
  },
  {
   "cell_type": "code",
   "execution_count": null,
   "id": "298b933f",
   "metadata": {
    "id": "298b933f"
   },
   "outputs": [],
   "source": [
    "from IPython.display import Image\n",
    "Image(filename='datacamp_chp1.png')"
   ]
  }
 ],
 "metadata": {
  "colab": {
   "provenance": []
  },
  "kernelspec": {
   "display_name": "Python 3 (ipykernel)",
   "language": "python",
   "name": "python3"
  },
  "language_info": {
   "codemirror_mode": {
    "name": "ipython",
    "version": 3
   },
   "file_extension": ".py",
   "mimetype": "text/x-python",
   "name": "python",
   "nbconvert_exporter": "python",
   "pygments_lexer": "ipython3",
   "version": "3.10.13"
  }
 },
 "nbformat": 4,
 "nbformat_minor": 5
}

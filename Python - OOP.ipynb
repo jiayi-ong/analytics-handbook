{
 "cells": [
  {
   "cell_type": "markdown",
   "id": "d5d3b58e",
   "metadata": {},
   "source": [
    "## Type, IsInstance"
   ]
  },
  {
   "cell_type": "code",
   "execution_count": 94,
   "id": "938ba7d7",
   "metadata": {},
   "outputs": [],
   "source": [
    "class Pets:\n",
    "    def print_type(self):\n",
    "        print(type(self))\n",
    "\n",
    "class Dogs(Pets):\n",
    "    pass\n",
    "\n",
    "pet = Pets()\n",
    "dog = Dogs()"
   ]
  },
  {
   "cell_type": "code",
   "execution_count": 97,
   "id": "c5f04556",
   "metadata": {},
   "outputs": [
    {
     "name": "stdout",
     "output_type": "stream",
     "text": [
      "<class '__main__.Pets'>\n",
      "<class '__main__.Dogs'>\n"
     ]
    }
   ],
   "source": [
    "pet.print_type()\n",
    "dog.print_type()"
   ]
  },
  {
   "cell_type": "code",
   "execution_count": 40,
   "id": "c4e3bf8f",
   "metadata": {},
   "outputs": [
    {
     "name": "stdout",
     "output_type": "stream",
     "text": [
      "True\n",
      "True\n",
      "False\n",
      "True\n"
     ]
    }
   ],
   "source": [
    "print(isinstance(pet, Pets))\n",
    "print(isinstance(dog, Pets))\n",
    "print(isinstance(pet, Dogs))\n",
    "print(isinstance(dog, Pets))"
   ]
  },
  {
   "cell_type": "markdown",
   "id": "f42fdaa5",
   "metadata": {},
   "source": [
    "## Instance, Static, Class Methods"
   ]
  },
  {
   "cell_type": "markdown",
   "id": "736e0f44",
   "metadata": {},
   "source": [
    "Instance methods references the instance attributes, which may be different across instances."
   ]
  },
  {
   "cell_type": "code",
   "execution_count": 17,
   "id": "a8451290",
   "metadata": {},
   "outputs": [],
   "source": [
    "class Point:\n",
    "    def __init__(self, x, y):\n",
    "        self.x = y\n",
    "        self.y = y\n",
    "    \n",
    "    def product(self):\n",
    "        \"\"\"This instance method would return the product\n",
    "        of x and y of the particular instance.\n",
    "        \"\"\"\n",
    "        return self.x * self.y"
   ]
  },
  {
   "cell_type": "markdown",
   "id": "c28982d3",
   "metadata": {},
   "source": [
    "Instance methods can only be called from instances."
   ]
  },
  {
   "cell_type": "code",
   "execution_count": 18,
   "id": "832ef613",
   "metadata": {},
   "outputs": [
    {
     "name": "stdout",
     "output_type": "stream",
     "text": [
      "9\n",
      "16\n"
     ]
    }
   ],
   "source": [
    "a = Point(1, 3)\n",
    "b = Point(2, 4)\n",
    "print(a.product())\n",
    "print(b.product())"
   ]
  },
  {
   "cell_type": "markdown",
   "id": "8a0d8b7b",
   "metadata": {},
   "source": [
    "Static methods are 'independent' of each instance and cannot access instance or class attributes.\n",
    "\n",
    "Can be called from the class name or instances.\n",
    "\n",
    "Work like regular functions belonging to the class namespace."
   ]
  },
  {
   "cell_type": "code",
   "execution_count": 20,
   "id": "f343bb10",
   "metadata": {},
   "outputs": [
    {
     "name": "stdout",
     "output_type": "stream",
     "text": [
      "6\n",
      "6\n"
     ]
    }
   ],
   "source": [
    "class MyClass:\n",
    "    \n",
    "    @staticmethod\n",
    "    def product(a, b):\n",
    "        return a * b\n",
    " \n",
    "\n",
    "print(MyClass.product(2, 3))\n",
    "\n",
    "C = MyClass()\n",
    "print(C.product(2, 3))"
   ]
  },
  {
   "cell_type": "markdown",
   "id": "5a5a9c6c",
   "metadata": {},
   "source": [
    "Class methods can access class attributes without the need to first create instances.\n",
    "\n",
    "Cannot access instance attributes."
   ]
  },
  {
   "cell_type": "code",
   "execution_count": 10,
   "id": "11dd2fa6",
   "metadata": {},
   "outputs": [],
   "source": [
    "class Pet:\n",
    "    info = \"domesticated animals.\"\n",
    "    \n",
    "    @classmethod\n",
    "    def about(cls):\n",
    "        return f\"This class is about {cls.info}\"\n",
    "        \n",
    "\n",
    "class Dog(Pet):\n",
    "    info = \"domesticated canines.\"\n",
    "    \n",
    "\n",
    "class Cat(Pet):\n",
    "    info = \"domesticated felines.\"\n",
    "    \n",
    "    def print_about(self):\n",
    "        print(type(self).about())\n",
    "        print(super().about())"
   ]
  },
  {
   "cell_type": "code",
   "execution_count": 2,
   "id": "3cb42129",
   "metadata": {},
   "outputs": [
    {
     "name": "stdout",
     "output_type": "stream",
     "text": [
      "This class is about domesticated animals.\n",
      "This class is about domesticated canines.\n",
      "This class is about domesticated felines.\n"
     ]
    }
   ],
   "source": [
    "print(Pet.about())\n",
    "print(Dog.about())\n",
    "print(Cat.about())"
   ]
  },
  {
   "cell_type": "code",
   "execution_count": 11,
   "id": "06d52f6e",
   "metadata": {},
   "outputs": [
    {
     "name": "stdout",
     "output_type": "stream",
     "text": [
      "This class is about domesticated felines.\n",
      "This class is about domesticated felines.\n"
     ]
    }
   ],
   "source": [
    "cat = Cat()\n",
    "cat.print_about()"
   ]
  },
  {
   "cell_type": "markdown",
   "id": "96572c23",
   "metadata": {},
   "source": [
    "Instances must be first created if using instance methods that returns self.info."
   ]
  },
  {
   "cell_type": "markdown",
   "id": "a16806e2",
   "metadata": {},
   "source": [
    "## Instance, Class Attributes"
   ]
  },
  {
   "cell_type": "code",
   "execution_count": 12,
   "id": "4e6c1525",
   "metadata": {},
   "outputs": [],
   "source": [
    "class MyClass:\n",
    "    class_att = \"1234\"\n",
    "    \n",
    "    def __init__(self, x):\n",
    "        self.x = x\n",
    "    \n",
    "    @staticmethod\n",
    "    def set_class_att(x):\n",
    "        MyClass.class_att = x"
   ]
  },
  {
   "cell_type": "code",
   "execution_count": 13,
   "id": "91c0eb07",
   "metadata": {},
   "outputs": [
    {
     "name": "stdout",
     "output_type": "stream",
     "text": [
      "1 1234\n"
     ]
    }
   ],
   "source": [
    "A = MyClass(1)\n",
    "print(A.x, A.class_att)"
   ]
  },
  {
   "cell_type": "markdown",
   "id": "f7c783c5",
   "metadata": {},
   "source": [
    "Changing class attribute directly from an instance does not change for all instances.\n",
    "\n",
    "The class_att becomes an instance attribute for the instance now."
   ]
  },
  {
   "cell_type": "code",
   "execution_count": 14,
   "id": "252d60f2",
   "metadata": {},
   "outputs": [
    {
     "name": "stdout",
     "output_type": "stream",
     "text": [
      "2 5678\n",
      "1 1234\n"
     ]
    }
   ],
   "source": [
    "B = MyClass(2)\n",
    "B.class_att = \"5678\"\n",
    "print(B.x, B.class_att)\n",
    "print(A.x, A.class_att)"
   ]
  },
  {
   "cell_type": "markdown",
   "id": "5ce39226",
   "metadata": {},
   "source": [
    "Changing class attributes by calling the class name changes the attribute for all instances."
   ]
  },
  {
   "cell_type": "code",
   "execution_count": 15,
   "id": "4792fdc5",
   "metadata": {},
   "outputs": [
    {
     "name": "stdout",
     "output_type": "stream",
     "text": [
      "3 9101112\n",
      "2 5678\n",
      "1 9101112\n"
     ]
    }
   ],
   "source": [
    "C = MyClass(3)\n",
    "C.set_class_att(\"9101112\")\n",
    "print(C.x, C.class_att)\n",
    "print(B.x, B.class_att) # class_att is an instance attribute now, does not change\n",
    "print(A.x, A.class_att)"
   ]
  },
  {
   "cell_type": "markdown",
   "id": "3c21d83b",
   "metadata": {},
   "source": [
    "## Property, setter\n",
    "\n",
    "Controls how an attribute is 'get' and 'set' while keeping it syntactically identical to ordinary attributes for the users, i.e., without having to define the rules within a setter method that the user has to use."
   ]
  },
  {
   "cell_type": "code",
   "execution_count": 8,
   "id": "33c6476c",
   "metadata": {},
   "outputs": [],
   "source": [
    "class MyClass:\n",
    "    \n",
    "    def __init__(self, a):\n",
    "        self.a = a\n",
    "        \n",
    "    @property\n",
    "    def a(self):\n",
    "        return self.__a\n",
    "    \n",
    "    @a.setter\n",
    "    def a(self, val):\n",
    "        if val > 0:\n",
    "            self.__a = val\n",
    "        else:\n",
    "            self.__a = 0\n",
    "    \n",
    "    \n",
    "    def indirect_set(self, val):\n",
    "        self.a = val"
   ]
  },
  {
   "cell_type": "markdown",
   "id": "1e40769d",
   "metadata": {},
   "source": [
    "The rules specified by under @a.setter applies during initialization and in subsequent settings."
   ]
  },
  {
   "cell_type": "code",
   "execution_count": 9,
   "id": "0c269aec",
   "metadata": {},
   "outputs": [
    {
     "name": "stdout",
     "output_type": "stream",
     "text": [
      "0\n"
     ]
    }
   ],
   "source": [
    "C = MyClass(-1)\n",
    "print(C.a)"
   ]
  },
  {
   "cell_type": "code",
   "execution_count": 10,
   "id": "4376164c",
   "metadata": {
    "scrolled": true
   },
   "outputs": [
    {
     "name": "stdout",
     "output_type": "stream",
     "text": [
      "0\n"
     ]
    }
   ],
   "source": [
    "C.a = -10\n",
    "print(C.a)"
   ]
  },
  {
   "cell_type": "code",
   "execution_count": 11,
   "id": "31543194",
   "metadata": {},
   "outputs": [
    {
     "name": "stdout",
     "output_type": "stream",
     "text": [
      "100\n",
      "0\n"
     ]
    }
   ],
   "source": [
    "C.indirect_set(100)\n",
    "print(C.a)\n",
    "C.indirect_set(-10)\n",
    "print(C.a)"
   ]
  },
  {
   "cell_type": "markdown",
   "id": "43064975",
   "metadata": {},
   "source": [
    "## Inheritance"
   ]
  },
  {
   "cell_type": "markdown",
   "id": "77ab261e",
   "metadata": {},
   "source": [
    "1. Inherit super class method and adds functionality\n",
    "2. Inherited method can assign values to instance attribute and return values"
   ]
  },
  {
   "cell_type": "code",
   "execution_count": 104,
   "id": "1a21ee5a",
   "metadata": {},
   "outputs": [],
   "source": [
    "class Pets:\n",
    "    name = \"pet\"\n",
    "    noise = \"makes noise\"\n",
    "    \n",
    "    def make_noise(self, volume):\n",
    "        self.volume = volume\n",
    "        return f\"This {type(self).name} {type(self).noise} {volume}!\"\n",
    "    \n",
    "\n",
    "class Dogs(Pets):\n",
    "    name = \"dog\"\n",
    "    noise = \"barks\"\n",
    "    \n",
    "    def make_noise(self, volume):\n",
    "        statement = super().make_noise(volume) \n",
    "        # Alternatively,\n",
    "        # statement = Pets.make_noise(self, volume)\n",
    "        \n",
    "        print(statement)\n",
    "        print(self.volume)"
   ]
  },
  {
   "cell_type": "code",
   "execution_count": 105,
   "id": "eca725a4",
   "metadata": {},
   "outputs": [
    {
     "name": "stdout",
     "output_type": "stream",
     "text": [
      "This dog barks loudly!\n",
      "loudly\n"
     ]
    }
   ],
   "source": [
    "dog = Dogs()\n",
    "dog.make_noise(\"loudly\")"
   ]
  },
  {
   "cell_type": "markdown",
   "id": "a5650f64",
   "metadata": {},
   "source": [
    "## Multiple Inheritance"
   ]
  },
  {
   "cell_type": "code",
   "execution_count": 166,
   "id": "1312e32f",
   "metadata": {},
   "outputs": [],
   "source": [
    "class Citizen:\n",
    "    def __init__(self, name):\n",
    "        self.name = name\n",
    "        self.wealth = 0\n",
    "\n",
    "        \n",
    "class Worker(Citizen):\n",
    "    def __init__(self, income):\n",
    "        self.income = income\n",
    "        \n",
    "    def earn_income(self):\n",
    "        self.wealth += self.income\n",
    "        \n",
    "        \n",
    "class Consumer(Citizen):\n",
    "    def __init__(self, expense):\n",
    "        self.expense = expense\n",
    "        \n",
    "    def spend_money(self):\n",
    "        self.wealth -= self.expense\n",
    "        \n",
    "        \n",
    "class Average_Guy(Worker, Consumer):\n",
    "    def __init__(self, name, income, expense):\n",
    "        # This code will only reference the first Super class, which is Worker\n",
    "        # and name will be assigned to the 'income' attribute\n",
    "        # super().__init__(name)\n",
    "        \n",
    "        Citizen.__init__(self, name)\n",
    "        Worker.__init__(self, income)\n",
    "        Consumer.__init__(self, expense)"
   ]
  },
  {
   "cell_type": "code",
   "execution_count": 171,
   "id": "a8f53768",
   "metadata": {},
   "outputs": [
    {
     "data": {
      "text/plain": [
       "{'name': 'John', 'wealth': 0, 'income': 87000, 'expense': 60000}"
      ]
     },
     "execution_count": 171,
     "metadata": {},
     "output_type": "execute_result"
    }
   ],
   "source": [
    "dude = Average_Guy(\"John\", 87000, 60000)\n",
    "dude.__dict__"
   ]
  },
  {
   "cell_type": "code",
   "execution_count": 173,
   "id": "69d7e45b",
   "metadata": {},
   "outputs": [
    {
     "data": {
      "text/plain": [
       "54000"
      ]
     },
     "execution_count": 173,
     "metadata": {},
     "output_type": "execute_result"
    }
   ],
   "source": [
    "dude.earn_income()\n",
    "dude.spend_money()\n",
    "dude.wealth"
   ]
  },
  {
   "cell_type": "markdown",
   "id": "f034b099",
   "metadata": {},
   "source": [
    "## Magic Methods"
   ]
  },
  {
   "cell_type": "markdown",
   "id": "7e79344d",
   "metadata": {},
   "source": [
    "Example: basic two-by-two matrix operations"
   ]
  },
  {
   "cell_type": "code",
   "execution_count": 189,
   "id": "3932f331",
   "metadata": {},
   "outputs": [],
   "source": [
    "class Square2x2Matrix:\n",
    "    def __init__(self, a,b,c,d):\n",
    "        self.values = [a,b,c,d]\n",
    "        \n",
    "    def __str__(self):\n",
    "        \"\"\"Returns a string that describes the object in a 'user-friendly' format.\n",
    "        \"\"\"\n",
    "        a,b,c,d = self.values\n",
    "        return f\"[[{a} {b}]\\n[{c} {d}]]\"\n",
    "        \n",
    "    def __repr__(self):\n",
    "        \"\"\"Returns a string that when passed to eval(), recovers the object.\n",
    "        \"\"\"\n",
    "        params = \", \".join([str(i) for i in self.values])\n",
    "        return f\"Square2x2Matrix({params})\"\n",
    "        \n",
    "    def __add__(self, other):\n",
    "        \"\"\"Defines what happens when the '+' operator is used.\n",
    "        Addresses the case when the other object is an int or float (not a Square2x2Matrix).\n",
    "        \"\"\"\n",
    "        if type(other) == int or type(other) == float:\n",
    "            vals = [i + other for i in self.values]\n",
    "        else:\n",
    "            vals = [i + j for i,j in zip(self.values, other.values)]\n",
    "        return Square2x2Matrix(*vals)"
   ]
  },
  {
   "cell_type": "code",
   "execution_count": 192,
   "id": "54b5957c",
   "metadata": {},
   "outputs": [
    {
     "name": "stdout",
     "output_type": "stream",
     "text": [
      "[[6 8]\n",
      "[10 12]]\n"
     ]
    },
    {
     "data": {
      "text/plain": [
       "Square2x2Matrix(6, 8, 10, 12)"
      ]
     },
     "execution_count": 192,
     "metadata": {},
     "output_type": "execute_result"
    }
   ],
   "source": [
    "A = Square2x2Matrix(1,2,3,4)\n",
    "B = Square2x2Matrix(5,6,7,8)\n",
    "\n",
    "C = A + B\n",
    "print(C)\n",
    "eval(repr(C))"
   ]
  },
  {
   "cell_type": "code",
   "execution_count": 193,
   "id": "f9201830",
   "metadata": {},
   "outputs": [
    {
     "name": "stdout",
     "output_type": "stream",
     "text": [
      "[[11 12]\n",
      "[13 14]]\n"
     ]
    }
   ],
   "source": [
    "D = A + 10\n",
    "print(D)"
   ]
  },
  {
   "cell_type": "markdown",
   "id": "33c6f7d9",
   "metadata": {},
   "source": [
    "## Misc."
   ]
  },
  {
   "cell_type": "code",
   "execution_count": 26,
   "id": "afe5e822",
   "metadata": {},
   "outputs": [
    {
     "name": "stdout",
     "output_type": "stream",
     "text": [
      "division by zero\n",
      "<__main__.MyClass object at 0x000001FCAACB0610>\n"
     ]
    }
   ],
   "source": [
    "class MyClass:\n",
    "    def __init__(self, x):\n",
    "        try:\n",
    "            self.x = x/0\n",
    "        except Exception as ex:\n",
    "            print(ex)\n",
    "            return\n",
    "\n",
    "# object is still created with exception given try-except\n",
    "C = MyClass(1)\n",
    "print(C)"
   ]
  },
  {
   "cell_type": "markdown",
   "id": "346e2949",
   "metadata": {},
   "source": [
    "## Misc."
   ]
  },
  {
   "cell_type": "code",
   "execution_count": 61,
   "id": "bad8dda6",
   "metadata": {},
   "outputs": [],
   "source": [
    "class A:\n",
    "    x = None\n",
    "    y = None\n",
    "    z = None\n",
    "    \n",
    "    @classmethod\n",
    "    def set_values(cls, x, y, z):\n",
    "        print(\"Setting value of x for class:\", cls)\n",
    "        cls.x = x\n",
    "        A.y = y\n",
    "        \n",
    "class B(A):\n",
    "    def set_values_indirectly(self, x, y, z):\n",
    "        self.set_values(x, y, z)"
   ]
  },
  {
   "cell_type": "code",
   "execution_count": 62,
   "id": "5a20fe00",
   "metadata": {},
   "outputs": [
    {
     "name": "stdout",
     "output_type": "stream",
     "text": [
      "Setting value of x for class: <class '__main__.B'>\n",
      "1\n",
      "None\n",
      "2\n",
      "2\n"
     ]
    }
   ],
   "source": [
    "b = B()\n",
    "b.set_values_indirectly(1, 2, 3)\n",
    "print(b.x)\n",
    "print(A.x)\n",
    "print(b.y)\n",
    "print(A.y)"
   ]
  }
 ],
 "metadata": {
  "kernelspec": {
   "display_name": "Python 3 (ipykernel)",
   "language": "python",
   "name": "python3"
  },
  "language_info": {
   "codemirror_mode": {
    "name": "ipython",
    "version": 3
   },
   "file_extension": ".py",
   "mimetype": "text/x-python",
   "name": "python",
   "nbconvert_exporter": "python",
   "pygments_lexer": "ipython3",
   "version": "3.10.9"
  }
 },
 "nbformat": 4,
 "nbformat_minor": 5
}
